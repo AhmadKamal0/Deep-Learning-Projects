{
  "nbformat": 4,
  "nbformat_minor": 0,
  "metadata": {
    "colab": {
      "provenance": []
    },
    "kernelspec": {
      "name": "python3",
      "display_name": "Python 3"
    },
    "language_info": {
      "name": "python"
    }
  },
  "cells": [
    {
      "cell_type": "code",
      "execution_count": null,
      "metadata": {
        "colab": {
          "base_uri": "https://localhost:8080/"
        },
        "id": "w9Jk-h4rHwW5",
        "outputId": "beffaf02-1118-4a1a-865a-4c271b3bf144"
      },
      "outputs": [
        {
          "output_type": "stream",
          "name": "stdout",
          "text": [
            "Mounted at /content/drive/\n"
          ]
        }
      ],
      "source": [
        "from google.colab import drive\n",
        "drive.mount('/content/drive/')"
      ]
    },
    {
      "cell_type": "code",
      "source": [
        "%cd /content/drive/MyDrive/image_course"
      ],
      "metadata": {
        "colab": {
          "base_uri": "https://localhost:8080/"
        },
        "id": "mCyR2M1NLZpG",
        "outputId": "db554ade-43b5-4bbe-f28d-9679c1668829"
      },
      "execution_count": null,
      "outputs": [
        {
          "output_type": "stream",
          "name": "stdout",
          "text": [
            "/content/drive/MyDrive/image_course\n"
          ]
        }
      ]
    },
    {
      "cell_type": "code",
      "source": [
        "import gensim\n",
        "import gensim.downloader as api\n",
        "import pandas as pd\n",
        "import re\n",
        "import numpy as np\n",
        "from nltk import ngrams\n",
        "import re\n",
        "from nltk.corpus import stopwords\n",
        "from nltk.tokenize import word_tokenize\n",
        "from nltk.stem.isri import ISRIStemmer\n",
        "import nltk\n",
        "nltk.download('stopwords')\n",
        "nltk.download('punkt')"
      ],
      "metadata": {
        "colab": {
          "base_uri": "https://localhost:8080/"
        },
        "id": "ihFuLBs2N_P8",
        "outputId": "ab3cbc0f-db77-4cc4-fb38-c45878187362"
      },
      "execution_count": null,
      "outputs": [
        {
          "output_type": "stream",
          "name": "stderr",
          "text": [
            "[nltk_data] Downloading package stopwords to /root/nltk_data...\n",
            "[nltk_data]   Unzipping corpora/stopwords.zip.\n",
            "[nltk_data] Downloading package punkt to /root/nltk_data...\n",
            "[nltk_data]   Unzipping tokenizers/punkt.zip.\n"
          ]
        },
        {
          "output_type": "execute_result",
          "data": {
            "text/plain": [
              "True"
            ]
          },
          "metadata": {},
          "execution_count": 3
        }
      ]
    },
    {
      "cell_type": "code",
      "source": [
        "def clean_str(text):\n",
        "    search = [\"أ\",\"إ\",\"آ\",\"ة\",\"_\",\"-\",\"/\",\".\",\"،\",\" و \",\" يا \",'\"',\"ـ\",\"'\",\"ى\",\"\\\\\",'\\n', '\\t','&quot;','?','؟','!']\n",
        "    replace = [\"ا\",\"ا\",\"ا\",\"ه\",\" \",\" \",\"\",\"\",\"\",\" و\",\" يا\",\"\",\"\",\"\",\"ي\",\"\",' ', ' ',' ',' ',' ',' ']\n",
        "\n",
        "    #remove tashkeel\n",
        "    p_tashkeel = re.compile(r'[\\u0617-\\u061A\\u064B-\\u0652]')\n",
        "    text = re.sub(p_tashkeel,\"\", text)\n",
        "\n",
        "    #remove longation\n",
        "    p_longation = re.compile(r'(.)\\1+')\n",
        "    subst = r\"\\1\\1\"\n",
        "    text = re.sub(p_longation, subst, text)\n",
        "\n",
        "    text = text.replace('وو', 'و')\n",
        "    text = text.replace('يي', 'ي')\n",
        "    text = text.replace('اا', 'ا')\n",
        "\n",
        "    for i in range(0, len(search)):\n",
        "        text = text.replace(search[i], replace[i])\n",
        "\n",
        "    #trim\n",
        "    text = text.strip()\n",
        "\n",
        "    return text\n",
        "\n",
        "def remove_non_arabic(text):\n",
        "    return re.sub(r'[^\\u0600-\\u06FF\\s]', '', text)\n",
        "\n",
        "\n",
        "\n",
        "def remove_stopwords(text):\n",
        "    stop_words = set(stopwords.words('arabic'))\n",
        "    words = word_tokenize(text)\n",
        "    return ' '.join([word for word in words if word not in stop_words])\n",
        "\n",
        "\n",
        "def stem_words(text):\n",
        "    stemmer = ISRIStemmer()\n",
        "    words = word_tokenize(text)\n",
        "    return ' '.join([stemmer.stem(word) for word in words])\n",
        "\n",
        "\n",
        "def get_vec(n_model,dim, token):\n",
        "    vec = np.zeros(dim)\n",
        "    is_vec = False\n",
        "    if token not in n_model.wv:\n",
        "        _count = 0\n",
        "        is_vec = True\n",
        "        for w in token.split(\"_\"):\n",
        "            if w in n_model.wv:\n",
        "                _count += 1\n",
        "                vec += n_model.wv[w]\n",
        "        if _count > 0:\n",
        "            vec = vec / _count\n",
        "    else:\n",
        "        vec = n_model.wv[token]\n",
        "    return vec\n",
        "\n",
        "def calc_vec(pos_tokens, neg_tokens, n_model, dim):\n",
        "    vec = np.zeros(dim)\n",
        "    for p in pos_tokens:\n",
        "        vec += get_vec(n_model,dim,p)\n",
        "    for n in neg_tokens:\n",
        "        vec -= get_vec(n_model,dim,n)\n",
        "\n",
        "    return vec\n",
        "\n",
        "## -- Retrieve all ngrams for a text in between a specific range\n",
        "def get_all_ngrams(text, nrange=3):\n",
        "    text = re.sub(r'[\\,\\.\\;\\(\\)\\[\\]\\_\\+\\#\\@\\!\\?\\؟\\^]', ' ', text)\n",
        "    tokens = [token for token in text.split(\" \") if token.strip() != \"\"]\n",
        "    ngs = []\n",
        "    for n in range(2,nrange+1):\n",
        "        ngs += [ng for ng in ngrams(tokens, n)]\n",
        "    return [\"_\".join(ng) for ng in ngs if len(ng)>0 ]\n",
        "\n",
        "## -- Retrieve all ngrams for a text in a specific n\n",
        "def get_ngrams(text, n=2):\n",
        "    text = re.sub(r'[\\,\\.\\;\\(\\)\\[\\]\\_\\+\\#\\@\\!\\?\\؟\\^]', ' ', text)\n",
        "    tokens = [token for token in text.split(\" \") if token.strip() != \"\"]\n",
        "    ngs = [ng for ng in ngrams(tokens, n)]\n",
        "    return [\"_\".join(ng) for ng in ngs if len(ng)>0 ]\n",
        "\n",
        "## -- filter the existed tokens in a specific model\n",
        "def get_existed_tokens(tokens, n_model):\n",
        "    return [tok for tok in tokens if tok in n_model.wv ]\n",
        "def remove_punc(text):\n",
        "  arabic_punctuations = r'''[،؛؟!.؟]'''\n",
        "  cleaned_text = re.sub(arabic_punctuations, '', text)\n",
        "  return cleaned_text\n",
        "\n",
        "def preprocess_text(text):\n",
        "    text = clean_str(text)\n",
        "    text = remove_non_arabic(text)\n",
        "    #text = remove_stopwords(text)\n",
        "    text = remove_punc(text)\n",
        "    #text = stem_words(text)\n",
        "    #tokenized_text =  model.wv.get_mean_vector(text)\n",
        "    return text"
      ],
      "metadata": {
        "id": "E9med_8cPHxR"
      },
      "execution_count": null,
      "outputs": []
    },
    {
      "cell_type": "code",
      "source": [
        "#!wget https://bakrianoo.ewr1.vultrobjects.com/aravec/full_grams_cbow_300_twitter.zip\n",
        "#!unzip full_grams_cbow_300_twitter.zip"
      ],
      "metadata": {
        "id": "PGhSkw2OQJUW"
      },
      "execution_count": null,
      "outputs": []
    },
    {
      "cell_type": "code",
      "source": [
        "model_path = '/content/drive/MyDrive/image_course/full_grams_cbow_300_twitter.mdl'"
      ],
      "metadata": {
        "id": "WKSd6wV3Qb3o"
      },
      "execution_count": null,
      "outputs": []
    },
    {
      "cell_type": "code",
      "source": [
        "# load the AraVec model\n",
        "model = gensim.models.Word2Vec.load(model_path)\n"
      ],
      "metadata": {
        "id": "-ZQ7Eu7kSRoe"
      },
      "execution_count": null,
      "outputs": []
    },
    {
      "cell_type": "code",
      "source": [
        "type(model)"
      ],
      "metadata": {
        "colab": {
          "base_uri": "https://localhost:8080/",
          "height": 256
        },
        "id": "DEG6GT9WScv7",
        "outputId": "b0ff7c17-d36d-4287-9006-dff27239ad7a"
      },
      "execution_count": null,
      "outputs": [
        {
          "output_type": "execute_result",
          "data": {
            "text/plain": [
              "gensim.models.word2vec.Word2Vec"
            ],
            "text/html": [
              "<div style=\"max-width:800px; border: 1px solid var(--colab-border-color);\"><style>\n",
              "      pre.function-repr-contents {\n",
              "        overflow-x: auto;\n",
              "        padding: 8px 12px;\n",
              "        max-height: 500px;\n",
              "      }\n",
              "\n",
              "      pre.function-repr-contents.function-repr-contents-collapsed {\n",
              "        cursor: pointer;\n",
              "        max-height: 100px;\n",
              "      }\n",
              "    </style>\n",
              "    <pre style=\"white-space: initial; background:\n",
              "         var(--colab-secondary-surface-color); padding: 8px 12px;\n",
              "         border-bottom: 1px solid var(--colab-border-color);\"><b>gensim.models.word2vec.Word2Vec</b><br/>def __init__(sentences=None, corpus_file=None, vector_size=100, alpha=0.025, window=5, min_count=5, max_vocab_size=None, sample=0.001, seed=1, workers=3, min_alpha=0.0001, sg=0, hs=0, negative=5, ns_exponent=0.75, cbow_mean=1, hashfxn=hash, epochs=5, null_word=0, trim_rule=None, sorted_vocab=1, batch_words=MAX_WORDS_IN_BATCH, compute_loss=False, callbacks=(), comment=None, max_final_vocab=None, shrink_windows=True)</pre><pre class=\"function-repr-contents function-repr-contents-collapsed\" style=\"\"><a class=\"filepath\" style=\"display:none\" href=\"#\">/usr/local/lib/python3.10/dist-packages/gensim/models/word2vec.py</a>Serialize/deserialize objects from disk, by equipping them with the `save()` / `load()` methods.\n",
              "\n",
              "Warnings\n",
              "--------\n",
              "This uses pickle internally (among other techniques), so objects must not contain unpicklable attributes\n",
              "such as lambda functions etc.</pre>\n",
              "      <script>\n",
              "      if (google.colab.kernel.accessAllowed && google.colab.files && google.colab.files.view) {\n",
              "        for (const element of document.querySelectorAll('.filepath')) {\n",
              "          element.style.display = 'block'\n",
              "          element.onclick = (event) => {\n",
              "            event.preventDefault();\n",
              "            event.stopPropagation();\n",
              "            google.colab.files.view(element.textContent, 241);\n",
              "          };\n",
              "        }\n",
              "      }\n",
              "      for (const element of document.querySelectorAll('.function-repr-contents')) {\n",
              "        element.onclick = (event) => {\n",
              "          event.preventDefault();\n",
              "          event.stopPropagation();\n",
              "          element.classList.toggle('function-repr-contents-collapsed');\n",
              "        };\n",
              "      }\n",
              "      </script>\n",
              "      </div>"
            ]
          },
          "metadata": {},
          "execution_count": 8
        }
      ]
    },
    {
      "cell_type": "code",
      "source": [
        "type(model.wv['القاهره'])"
      ],
      "metadata": {
        "colab": {
          "base_uri": "https://localhost:8080/"
        },
        "id": "YhhTSJIqS9CZ",
        "outputId": "9de1e5e4-fb10-4f2f-d27d-54a949ba8f73"
      },
      "execution_count": null,
      "outputs": [
        {
          "output_type": "execute_result",
          "data": {
            "text/plain": [
              "numpy.ndarray"
            ]
          },
          "metadata": {},
          "execution_count": 9
        }
      ]
    },
    {
      "cell_type": "code",
      "source": [
        "type(np.zeros(300))"
      ],
      "metadata": {
        "colab": {
          "base_uri": "https://localhost:8080/"
        },
        "id": "DWYLpqHHCYR7",
        "outputId": "be0c4554-9149-4aa7-b593-a3246b00d45a"
      },
      "execution_count": null,
      "outputs": [
        {
          "output_type": "execute_result",
          "data": {
            "text/plain": [
              "numpy.ndarray"
            ]
          },
          "metadata": {},
          "execution_count": 10
        }
      ]
    },
    {
      "cell_type": "code",
      "source": [
        "model.wv['اعشق']"
      ],
      "metadata": {
        "colab": {
          "base_uri": "https://localhost:8080/"
        },
        "id": "web8XM3_TBZ8",
        "outputId": "dc8137dd-5f05-4fd1-9866-f3d23b54138d"
      },
      "execution_count": null,
      "outputs": [
        {
          "output_type": "execute_result",
          "data": {
            "text/plain": [
              "array([-8.20451677e-01,  1.08045258e-01,  6.98896050e-01, -1.65884376e+00,\n",
              "        6.45783722e-01,  3.18962336e+00, -9.60089266e-02, -5.44313312e-01,\n",
              "        3.06820452e-01, -1.32856691e+00,  1.21465492e+00,  1.54077148e+00,\n",
              "        9.75815654e-01, -9.51405346e-01, -2.59220362e-01,  8.37651193e-01,\n",
              "       -2.04402018e+00,  4.08768266e-01,  2.76301837e+00, -1.47259951e+00,\n",
              "        4.59642082e-01, -1.75440478e+00, -9.36765552e-01,  1.28390580e-01,\n",
              "       -9.87209618e-01, -8.10559928e-01,  2.01617885e+00,  1.80733347e+00,\n",
              "        5.26343822e-01, -1.69395375e+00, -2.06447110e-01,  2.85660601e+00,\n",
              "        1.47853649e+00,  6.87025547e-01,  6.33065030e-02,  1.16863638e-01,\n",
              "        4.88540143e-01, -8.76598835e-01,  1.59045649e+00,  2.56198835e+00,\n",
              "        1.43414283e+00,  2.28218451e-01,  2.44445354e-02, -6.29584312e-01,\n",
              "       -1.15524495e+00,  1.46112525e+00,  2.66999900e-01, -4.04376984e-01,\n",
              "        1.27193853e-01,  3.63407946e+00,  7.09591687e-01,  1.31606984e+00,\n",
              "       -1.85879514e-01,  2.93224049e+00, -4.75335509e-01,  5.75544655e-01,\n",
              "        3.56328517e-01, -8.14770579e-01, -5.74298874e-02,  2.67587137e+00,\n",
              "        1.52977049e-01, -8.75230491e-01, -1.89640963e+00,  1.02092946e+00,\n",
              "       -5.35364151e-01,  2.06220841e+00,  2.27400136e+00,  1.25583148e+00,\n",
              "        1.40111196e+00,  3.43858027e+00, -1.15263546e+00, -1.29754388e+00,\n",
              "        3.87413472e-01,  3.27763033e+00, -4.37794387e-01,  7.62959361e-01,\n",
              "        2.78953850e-01,  4.83000278e-01,  1.23423886e+00,  7.61452138e-01,\n",
              "       -6.55875325e-01,  2.91727638e+00, -4.85335350e-01,  3.74707460e-01,\n",
              "       -2.24108890e-01,  1.01353824e+00,  8.01353514e-01,  8.57426822e-01,\n",
              "        9.91646826e-01, -2.37896538e+00, -1.41936827e+00, -2.49363470e+00,\n",
              "       -1.51636279e+00, -4.27925467e-01, -1.14668608e+00, -1.24844059e-01,\n",
              "        8.35919738e-01, -7.38008171e-02, -2.08177972e+00, -1.50308478e+00,\n",
              "       -3.84850740e-01,  1.82943928e+00, -9.20287967e-01, -1.75926924e+00,\n",
              "        1.16250074e+00, -6.25628948e-01,  8.62438798e-01,  3.53337526e-01,\n",
              "       -9.64754224e-01,  3.59828919e-01, -1.33677328e+00, -8.11287463e-02,\n",
              "       -3.82368088e-01,  1.83051217e+00,  2.91401005e+00, -6.71077549e-01,\n",
              "        1.74293447e+00,  2.55111635e-01, -1.59135365e+00,  1.62984133e+00,\n",
              "       -1.43704736e+00,  6.91730142e-01,  7.08126843e-01,  9.46911693e-01,\n",
              "       -1.66583991e+00,  2.82066971e-01, -2.66232997e-01, -1.15521991e+00,\n",
              "       -2.69783705e-01,  1.35871112e+00,  2.41907179e-01, -1.80812252e+00,\n",
              "        9.76769403e-02, -2.28906855e-01, -5.51621616e-01,  7.36902237e-01,\n",
              "       -3.27673912e+00,  1.86515725e+00, -8.76585543e-01,  6.17783308e-01,\n",
              "       -6.45519972e-01, -6.85298085e-01, -1.11268568e+00,  1.00221229e+00,\n",
              "       -3.00270349e-01, -2.19277072e+00,  8.94254148e-01,  8.72459233e-01,\n",
              "       -2.20369029e+00, -2.13588309e+00,  1.09495747e+00, -1.48269367e+00,\n",
              "        2.64285933e-02, -6.44587204e-02, -2.98485851e+00,  6.19042702e-02,\n",
              "        1.75448287e+00, -7.09591627e-01, -2.96777815e-01, -1.33414590e+00,\n",
              "       -8.10618401e-02, -5.74170589e-01,  2.41114616e+00, -9.84636962e-01,\n",
              "       -2.24973297e+00,  2.32723927e+00,  2.28946185e+00,  1.34754419e+00,\n",
              "       -1.06309617e+00, -1.08418393e+00, -3.27921323e-02, -3.00694913e-01,\n",
              "       -1.75019062e+00,  3.76498312e-01,  5.06212175e-01, -5.95693052e-01,\n",
              "        7.53814876e-01, -1.38026565e-01,  1.58702016e-01, -1.06132483e+00,\n",
              "       -1.03093636e+00,  6.26231611e-01, -6.99208081e-01,  1.24102783e+00,\n",
              "       -5.60879052e-01,  7.57846951e-01,  1.52143717e+00,  2.53858328e+00,\n",
              "        1.16967428e+00,  2.09954977e+00,  1.21924365e+00,  6.42726302e-01,\n",
              "       -2.06624365e+00,  6.92945540e-01, -8.14712226e-01,  1.48537838e+00,\n",
              "        7.62930512e-01,  2.04657936e+00, -4.50169474e-01,  1.60679626e+00,\n",
              "       -7.12465823e-01,  1.52253771e+00,  5.33130884e-01, -1.30253363e+00,\n",
              "        2.01344669e-01, -1.59163451e+00, -5.47713995e-01,  1.86393893e+00,\n",
              "       -7.64959991e-01,  8.84665072e-01, -2.12242603e-01,  1.12583227e-01,\n",
              "        1.84533072e+00,  1.87889397e+00, -5.79532206e-01, -1.41956949e+00,\n",
              "        3.68535995e-01,  5.31854451e-01, -8.82213056e-01, -5.35962582e-01,\n",
              "       -7.49926388e-01,  3.04755187e+00, -6.41310930e-01,  1.60832870e+00,\n",
              "        7.68636763e-01,  2.83527946e+00,  1.14865124e+00,  8.65556359e-01,\n",
              "       -1.34929633e+00,  7.24878490e-01,  5.23616731e-01, -4.67350334e-01,\n",
              "       -1.19743490e+00, -8.17906678e-01,  7.45596051e-01,  1.06716979e+00,\n",
              "        1.72294390e+00,  5.97611010e-01, -4.51881588e-01,  1.41609132e+00,\n",
              "       -6.72692478e-01, -4.32971641e-02,  1.61299527e+00, -1.60193765e+00,\n",
              "       -1.90572691e+00,  2.97621632e+00,  1.03871584e+00,  1.89459276e+00,\n",
              "       -5.67555487e-01, -4.86724108e-01, -8.09051096e-02,  1.28422523e+00,\n",
              "        1.29128146e+00,  8.14289391e-01,  2.02038407e+00,  3.70779663e-01,\n",
              "        1.68634117e-01,  1.12811184e+00,  1.25357628e-01,  1.57851827e+00,\n",
              "        3.67868453e-01, -1.40838361e+00, -1.66017389e+00, -1.11902690e+00,\n",
              "        1.07431915e-02,  8.00077856e-01, -8.09207618e-01,  1.91748667e+00,\n",
              "       -8.61624837e-01, -3.21672231e-01, -1.36764121e+00, -2.23261774e-01,\n",
              "        2.73478962e-03,  3.78246605e-01, -5.20687282e-01, -4.28469837e-01,\n",
              "        1.42827165e+00, -1.34117055e+00,  2.81176114e+00, -1.98122931e+00,\n",
              "       -9.71413910e-01,  3.23135138e-01,  1.82342803e+00,  1.67133439e+00,\n",
              "       -2.42194533e+00,  1.17096984e+00,  3.00208092e-01, -2.07250071e+00,\n",
              "       -3.92062515e-01,  4.57947701e-03, -2.14882541e+00,  8.71564269e-01,\n",
              "        2.06962562e+00,  4.12978351e-01,  1.68823576e+00,  2.20983446e-01,\n",
              "       -7.64436483e-01, -2.91237807e+00,  2.57233095e+00, -1.52524209e+00],\n",
              "      dtype=float32)"
            ]
          },
          "metadata": {},
          "execution_count": 108
        }
      ]
    },
    {
      "cell_type": "code",
      "source": [
        "model.wv.most_similar('القاهره')"
      ],
      "metadata": {
        "colab": {
          "base_uri": "https://localhost:8080/"
        },
        "id": "m5pO2r-ETWYi",
        "outputId": "8983e659-7db8-4a53-9f82-1302c98462bf"
      },
      "execution_count": null,
      "outputs": [
        {
          "output_type": "execute_result",
          "data": {
            "text/plain": [
              "[('الاسكندريه', 0.8014780282974243),\n",
              " ('المنصوره', 0.7435575127601624),\n",
              " ('اسوان', 0.7316365242004395),\n",
              " ('الجيزه', 0.7169999480247498),\n",
              " ('شرم_الشيخ', 0.7145971059799194),\n",
              " ('طنطا', 0.7078495621681213),\n",
              " ('الاسماعيليه', 0.7074712514877319),\n",
              " ('بالقاهره', 0.7051908373832703),\n",
              " ('السويس', 0.703279435634613),\n",
              " ('الغردقه', 0.7030307650566101)]"
            ]
          },
          "metadata": {},
          "execution_count": 12
        }
      ]
    },
    {
      "cell_type": "code",
      "source": [
        "dataset_path = '/content/drive/MyDrive/image_course/Dataset.tsv'\n",
        "df = pd.read_csv(dataset_path, sep='\\t')\n",
        "df.shape"
      ],
      "metadata": {
        "colab": {
          "base_uri": "https://localhost:8080/"
        },
        "id": "-UsOUKAhTYmU",
        "outputId": "18b3311c-c6c1-41d9-ca69-2d72a56fe516"
      },
      "execution_count": null,
      "outputs": [
        {
          "output_type": "execute_result",
          "data": {
            "text/plain": [
              "(99999, 2)"
            ]
          },
          "metadata": {},
          "execution_count": 126
        }
      ]
    },
    {
      "cell_type": "code",
      "source": [
        "df.head(n=100)"
      ],
      "metadata": {
        "colab": {
          "base_uri": "https://localhost:8080/",
          "height": 423
        },
        "id": "YiN-MNaFUD4p",
        "outputId": "945a6c13-9e92-4dd7-d906-479df27efaec"
      },
      "execution_count": null,
      "outputs": [
        {
          "output_type": "execute_result",
          "data": {
            "text/plain": [
              "       label                                               text\n",
              "0   Positive  ممتاز نوعا ما . النظافة والموقع والتجهيز والشا...\n",
              "1   Positive  أحد أسباب نجاح الإمارات أن كل شخص في هذه الدول...\n",
              "2   Positive  هادفة .. وقوية. تنقلك من صخب شوارع القاهرة الى...\n",
              "3   Positive  خلصنا .. مبدئيا اللي مستني ابهار زي الفيل الاز...\n",
              "4   Positive  ياسات جلوريا جزء لا يتجزأ من دبي . فندق متكامل...\n",
              "..       ...                                                ...\n",
              "95  Positive                          كما قيل عنه عميق حد الوجع\n",
              "96  Positive  فندق نظيف في مركز المدينة الفندق من فئة الثلاث...\n",
              "97  Positive  عرفت إبراهيم عيسى إعلاميا شجاعا منذ أيام نظام ...\n",
              "98  Positive  شكرا أتانا . جميل ، انصح به موقع هادئالأجمل ان...\n",
              "99  Positive  شمشوم يتحدث و يقول . . الفندق بعيد عن الحرم من...\n",
              "\n",
              "[100 rows x 2 columns]"
            ],
            "text/html": [
              "\n",
              "  <div id=\"df-95d0201a-4737-4e0d-b18b-5ee4a6c94682\" class=\"colab-df-container\">\n",
              "    <div>\n",
              "<style scoped>\n",
              "    .dataframe tbody tr th:only-of-type {\n",
              "        vertical-align: middle;\n",
              "    }\n",
              "\n",
              "    .dataframe tbody tr th {\n",
              "        vertical-align: top;\n",
              "    }\n",
              "\n",
              "    .dataframe thead th {\n",
              "        text-align: right;\n",
              "    }\n",
              "</style>\n",
              "<table border=\"1\" class=\"dataframe\">\n",
              "  <thead>\n",
              "    <tr style=\"text-align: right;\">\n",
              "      <th></th>\n",
              "      <th>label</th>\n",
              "      <th>text</th>\n",
              "    </tr>\n",
              "  </thead>\n",
              "  <tbody>\n",
              "    <tr>\n",
              "      <th>0</th>\n",
              "      <td>Positive</td>\n",
              "      <td>ممتاز نوعا ما . النظافة والموقع والتجهيز والشا...</td>\n",
              "    </tr>\n",
              "    <tr>\n",
              "      <th>1</th>\n",
              "      <td>Positive</td>\n",
              "      <td>أحد أسباب نجاح الإمارات أن كل شخص في هذه الدول...</td>\n",
              "    </tr>\n",
              "    <tr>\n",
              "      <th>2</th>\n",
              "      <td>Positive</td>\n",
              "      <td>هادفة .. وقوية. تنقلك من صخب شوارع القاهرة الى...</td>\n",
              "    </tr>\n",
              "    <tr>\n",
              "      <th>3</th>\n",
              "      <td>Positive</td>\n",
              "      <td>خلصنا .. مبدئيا اللي مستني ابهار زي الفيل الاز...</td>\n",
              "    </tr>\n",
              "    <tr>\n",
              "      <th>4</th>\n",
              "      <td>Positive</td>\n",
              "      <td>ياسات جلوريا جزء لا يتجزأ من دبي . فندق متكامل...</td>\n",
              "    </tr>\n",
              "    <tr>\n",
              "      <th>...</th>\n",
              "      <td>...</td>\n",
              "      <td>...</td>\n",
              "    </tr>\n",
              "    <tr>\n",
              "      <th>95</th>\n",
              "      <td>Positive</td>\n",
              "      <td>كما قيل عنه عميق حد الوجع</td>\n",
              "    </tr>\n",
              "    <tr>\n",
              "      <th>96</th>\n",
              "      <td>Positive</td>\n",
              "      <td>فندق نظيف في مركز المدينة الفندق من فئة الثلاث...</td>\n",
              "    </tr>\n",
              "    <tr>\n",
              "      <th>97</th>\n",
              "      <td>Positive</td>\n",
              "      <td>عرفت إبراهيم عيسى إعلاميا شجاعا منذ أيام نظام ...</td>\n",
              "    </tr>\n",
              "    <tr>\n",
              "      <th>98</th>\n",
              "      <td>Positive</td>\n",
              "      <td>شكرا أتانا . جميل ، انصح به موقع هادئالأجمل ان...</td>\n",
              "    </tr>\n",
              "    <tr>\n",
              "      <th>99</th>\n",
              "      <td>Positive</td>\n",
              "      <td>شمشوم يتحدث و يقول . . الفندق بعيد عن الحرم من...</td>\n",
              "    </tr>\n",
              "  </tbody>\n",
              "</table>\n",
              "<p>100 rows × 2 columns</p>\n",
              "</div>\n",
              "    <div class=\"colab-df-buttons\">\n",
              "\n",
              "  <div class=\"colab-df-container\">\n",
              "    <button class=\"colab-df-convert\" onclick=\"convertToInteractive('df-95d0201a-4737-4e0d-b18b-5ee4a6c94682')\"\n",
              "            title=\"Convert this dataframe to an interactive table.\"\n",
              "            style=\"display:none;\">\n",
              "\n",
              "  <svg xmlns=\"http://www.w3.org/2000/svg\" height=\"24px\" viewBox=\"0 -960 960 960\">\n",
              "    <path d=\"M120-120v-720h720v720H120Zm60-500h600v-160H180v160Zm220 220h160v-160H400v160Zm0 220h160v-160H400v160ZM180-400h160v-160H180v160Zm440 0h160v-160H620v160ZM180-180h160v-160H180v160Zm440 0h160v-160H620v160Z\"/>\n",
              "  </svg>\n",
              "    </button>\n",
              "\n",
              "  <style>\n",
              "    .colab-df-container {\n",
              "      display:flex;\n",
              "      gap: 12px;\n",
              "    }\n",
              "\n",
              "    .colab-df-convert {\n",
              "      background-color: #E8F0FE;\n",
              "      border: none;\n",
              "      border-radius: 50%;\n",
              "      cursor: pointer;\n",
              "      display: none;\n",
              "      fill: #1967D2;\n",
              "      height: 32px;\n",
              "      padding: 0 0 0 0;\n",
              "      width: 32px;\n",
              "    }\n",
              "\n",
              "    .colab-df-convert:hover {\n",
              "      background-color: #E2EBFA;\n",
              "      box-shadow: 0px 1px 2px rgba(60, 64, 67, 0.3), 0px 1px 3px 1px rgba(60, 64, 67, 0.15);\n",
              "      fill: #174EA6;\n",
              "    }\n",
              "\n",
              "    .colab-df-buttons div {\n",
              "      margin-bottom: 4px;\n",
              "    }\n",
              "\n",
              "    [theme=dark] .colab-df-convert {\n",
              "      background-color: #3B4455;\n",
              "      fill: #D2E3FC;\n",
              "    }\n",
              "\n",
              "    [theme=dark] .colab-df-convert:hover {\n",
              "      background-color: #434B5C;\n",
              "      box-shadow: 0px 1px 3px 1px rgba(0, 0, 0, 0.15);\n",
              "      filter: drop-shadow(0px 1px 2px rgba(0, 0, 0, 0.3));\n",
              "      fill: #FFFFFF;\n",
              "    }\n",
              "  </style>\n",
              "\n",
              "    <script>\n",
              "      const buttonEl =\n",
              "        document.querySelector('#df-95d0201a-4737-4e0d-b18b-5ee4a6c94682 button.colab-df-convert');\n",
              "      buttonEl.style.display =\n",
              "        google.colab.kernel.accessAllowed ? 'block' : 'none';\n",
              "\n",
              "      async function convertToInteractive(key) {\n",
              "        const element = document.querySelector('#df-95d0201a-4737-4e0d-b18b-5ee4a6c94682');\n",
              "        const dataTable =\n",
              "          await google.colab.kernel.invokeFunction('convertToInteractive',\n",
              "                                                    [key], {});\n",
              "        if (!dataTable) return;\n",
              "\n",
              "        const docLinkHtml = 'Like what you see? Visit the ' +\n",
              "          '<a target=\"_blank\" href=https://colab.research.google.com/notebooks/data_table.ipynb>data table notebook</a>'\n",
              "          + ' to learn more about interactive tables.';\n",
              "        element.innerHTML = '';\n",
              "        dataTable['output_type'] = 'display_data';\n",
              "        await google.colab.output.renderOutput(dataTable, element);\n",
              "        const docLink = document.createElement('div');\n",
              "        docLink.innerHTML = docLinkHtml;\n",
              "        element.appendChild(docLink);\n",
              "      }\n",
              "    </script>\n",
              "  </div>\n",
              "\n",
              "\n",
              "<div id=\"df-8c5d82ce-4acd-4def-b04e-1e82dcc73466\">\n",
              "  <button class=\"colab-df-quickchart\" onclick=\"quickchart('df-8c5d82ce-4acd-4def-b04e-1e82dcc73466')\"\n",
              "            title=\"Suggest charts\"\n",
              "            style=\"display:none;\">\n",
              "\n",
              "<svg xmlns=\"http://www.w3.org/2000/svg\" height=\"24px\"viewBox=\"0 0 24 24\"\n",
              "     width=\"24px\">\n",
              "    <g>\n",
              "        <path d=\"M19 3H5c-1.1 0-2 .9-2 2v14c0 1.1.9 2 2 2h14c1.1 0 2-.9 2-2V5c0-1.1-.9-2-2-2zM9 17H7v-7h2v7zm4 0h-2V7h2v10zm4 0h-2v-4h2v4z\"/>\n",
              "    </g>\n",
              "</svg>\n",
              "  </button>\n",
              "\n",
              "<style>\n",
              "  .colab-df-quickchart {\n",
              "      --bg-color: #E8F0FE;\n",
              "      --fill-color: #1967D2;\n",
              "      --hover-bg-color: #E2EBFA;\n",
              "      --hover-fill-color: #174EA6;\n",
              "      --disabled-fill-color: #AAA;\n",
              "      --disabled-bg-color: #DDD;\n",
              "  }\n",
              "\n",
              "  [theme=dark] .colab-df-quickchart {\n",
              "      --bg-color: #3B4455;\n",
              "      --fill-color: #D2E3FC;\n",
              "      --hover-bg-color: #434B5C;\n",
              "      --hover-fill-color: #FFFFFF;\n",
              "      --disabled-bg-color: #3B4455;\n",
              "      --disabled-fill-color: #666;\n",
              "  }\n",
              "\n",
              "  .colab-df-quickchart {\n",
              "    background-color: var(--bg-color);\n",
              "    border: none;\n",
              "    border-radius: 50%;\n",
              "    cursor: pointer;\n",
              "    display: none;\n",
              "    fill: var(--fill-color);\n",
              "    height: 32px;\n",
              "    padding: 0;\n",
              "    width: 32px;\n",
              "  }\n",
              "\n",
              "  .colab-df-quickchart:hover {\n",
              "    background-color: var(--hover-bg-color);\n",
              "    box-shadow: 0 1px 2px rgba(60, 64, 67, 0.3), 0 1px 3px 1px rgba(60, 64, 67, 0.15);\n",
              "    fill: var(--button-hover-fill-color);\n",
              "  }\n",
              "\n",
              "  .colab-df-quickchart-complete:disabled,\n",
              "  .colab-df-quickchart-complete:disabled:hover {\n",
              "    background-color: var(--disabled-bg-color);\n",
              "    fill: var(--disabled-fill-color);\n",
              "    box-shadow: none;\n",
              "  }\n",
              "\n",
              "  .colab-df-spinner {\n",
              "    border: 2px solid var(--fill-color);\n",
              "    border-color: transparent;\n",
              "    border-bottom-color: var(--fill-color);\n",
              "    animation:\n",
              "      spin 1s steps(1) infinite;\n",
              "  }\n",
              "\n",
              "  @keyframes spin {\n",
              "    0% {\n",
              "      border-color: transparent;\n",
              "      border-bottom-color: var(--fill-color);\n",
              "      border-left-color: var(--fill-color);\n",
              "    }\n",
              "    20% {\n",
              "      border-color: transparent;\n",
              "      border-left-color: var(--fill-color);\n",
              "      border-top-color: var(--fill-color);\n",
              "    }\n",
              "    30% {\n",
              "      border-color: transparent;\n",
              "      border-left-color: var(--fill-color);\n",
              "      border-top-color: var(--fill-color);\n",
              "      border-right-color: var(--fill-color);\n",
              "    }\n",
              "    40% {\n",
              "      border-color: transparent;\n",
              "      border-right-color: var(--fill-color);\n",
              "      border-top-color: var(--fill-color);\n",
              "    }\n",
              "    60% {\n",
              "      border-color: transparent;\n",
              "      border-right-color: var(--fill-color);\n",
              "    }\n",
              "    80% {\n",
              "      border-color: transparent;\n",
              "      border-right-color: var(--fill-color);\n",
              "      border-bottom-color: var(--fill-color);\n",
              "    }\n",
              "    90% {\n",
              "      border-color: transparent;\n",
              "      border-bottom-color: var(--fill-color);\n",
              "    }\n",
              "  }\n",
              "</style>\n",
              "\n",
              "  <script>\n",
              "    async function quickchart(key) {\n",
              "      const quickchartButtonEl =\n",
              "        document.querySelector('#' + key + ' button');\n",
              "      quickchartButtonEl.disabled = true;  // To prevent multiple clicks.\n",
              "      quickchartButtonEl.classList.add('colab-df-spinner');\n",
              "      try {\n",
              "        const charts = await google.colab.kernel.invokeFunction(\n",
              "            'suggestCharts', [key], {});\n",
              "      } catch (error) {\n",
              "        console.error('Error during call to suggestCharts:', error);\n",
              "      }\n",
              "      quickchartButtonEl.classList.remove('colab-df-spinner');\n",
              "      quickchartButtonEl.classList.add('colab-df-quickchart-complete');\n",
              "    }\n",
              "    (() => {\n",
              "      let quickchartButtonEl =\n",
              "        document.querySelector('#df-8c5d82ce-4acd-4def-b04e-1e82dcc73466 button');\n",
              "      quickchartButtonEl.style.display =\n",
              "        google.colab.kernel.accessAllowed ? 'block' : 'none';\n",
              "    })();\n",
              "  </script>\n",
              "</div>\n",
              "\n",
              "    </div>\n",
              "  </div>\n"
            ],
            "application/vnd.google.colaboratory.intrinsic+json": {
              "type": "dataframe",
              "variable_name": "df",
              "summary": "{\n  \"name\": \"df\",\n  \"rows\": 99999,\n  \"fields\": [\n    {\n      \"column\": \"label\",\n      \"properties\": {\n        \"dtype\": \"category\",\n        \"num_unique_values\": 3,\n        \"samples\": [\n          \"Positive\",\n          \"Mixed\",\n          \"Negative\"\n        ],\n        \"semantic_type\": \"\",\n        \"description\": \"\"\n      }\n    },\n    {\n      \"column\": \"text\",\n      \"properties\": {\n        \"dtype\": \"string\",\n        \"num_unique_values\": 99999,\n        \"samples\": [\n          \"\\u0623\\u0642\\u0645 \\u0639\\u0644\\u0649 \\u0627\\u0644\\u0645\\u0627\\u0634\\u064a . \\u0628\\u0635\\u0648\\u0631\\u0629 \\u0639\\u0627\\u0645\\u0629 \\u0627\\u0644\\u063a\\u0631\\u0641\\u0629 \\u062c\\u064a\\u062f\\u0629 \\u0648\\u0643\\u0644 \\u0634\\u064a\\u0621 \\u0645\\u062a\\u0648\\u0641\\u0631 \\u0641\\u064a\\u0647\\u0627. \\u0639\\u062f\\u0645 \\u0648\\u062c\\u0648\\u062f \\u0633\\u062a\\u0627\\u0631\\u0629 \\u0627\\u0644\\u062d\\u0645\\u0627\\u0645\",\n          \"\\u0644\\u0645 \\u062a\\u0639\\u062c\\u0628\\u0646\\u064a \\u0643\\u0628\\u0627\\u0642\\u064a \\u0627\\u0644\\u0633\\u0644\\u0633\\u0644\\u0629 \\u0648 \\u063a\\u064a\\u0631 \\u0645\\u062a\\u062d\\u0645\\u0633 \\u0644\\u0642\\u0631\\u0627\\u0621\\u0629 \\u0627\\u0644\\u062c\\u0632\\u0621 \\u0627\\u0644\\u062b\\u0627\\u0646\\u064a \\u0645\\u0646\\u0647\\u0627\",\n          \"\\u0643\\u0627\\u0646 \\u0627\\u0644\\u0645\\u0643\\u0627\\u0646 \\u0645\\u0645\\u062a\\u0627\\u0632 \\u0648\\u0627\\u0644\\u0623\\u0645\\u0646 \\u0648\\u0627\\u0644\\u0627\\u0633\\u062a\\u0642\\u0628\\u0627\\u0644 \\u0627\\u0648\\u0643\\u064a . . \\u0627\\u0644\\u062a\\u0643\\u064a\\u064a\\u0641 \\u0643\\u0627\\u0646 \\u062d\\u0627\\u0631 \\u0648\\u0628\\u0644\\u063a\\u062a \\u0627\\u0643\\u062b\\u0631 \\u0645\\u0646 \\u0645\\u0631\\u0647 \\u064a\\u062a\\u0645 \\u0644\\u0647 \\u0635\\u064a\\u0627\\u0646\\u0647 \\u0648\\u0644\\u0643\\u0646 \\u062f\\u0648\\u0646 \\u062c\\u062f\\u0648\\u064a \\u0628\\u0627\\u0644\\u0627\\u0636\\u0627\\u0641\\u0629 \\u0627\\u0646\\u0647 \\u0627\\u0644\\u0633\\u0631\\u0641\\u0633 \\u0643\\u0627\\u0646 \\u0646\\u0648\\u0639\\u0627 \\u0645\\u0627 \\u0636\\u0639\\u064a\\u0641 \\u062d\\u062a\\u064a \\u0639\\u0645\\u0644 \\u0627\\u0644\\u0644\\u0627\\u0646\\u062f\\u0631\\u064a \\u0645\\u0627 \\u0643\\u0627\\u0646 \\u0645\\u0646\\u0648\\u0641\\u0631 \\u0641\\u064a \\u0646\\u0641\\u0633 \\u0627\\u0644\\u0641\\u0646\\u062f\\u0642 \\u0648\\u0643\\u0627\\u0646 \\u0627\\u0644\\u0644\\u0627\\u0646\\u062f\\u0631\\u064a \\u064a\\u0643\\u0648\\u0646 \\u062e\\u0627\\u0631\\u062c \\u0627\\u0644\\u0641\\u0646\\u062f\\u0642 \\u0648\\u0627\\u0644\\u0633\\u0639\\u0631 \\u0643\\u0627\\u0646 \\u063a\\u0627\\u0644\\u064a \\u0627\\u0644\\u062b\\u0645\\u0646 \\u0648\\u0627\\u0646\\u0627 \\u0627\\u0633\\u062a\\u063a\\u0631\\u0628\\u062a \\u0645\\u0646 \\u0627\\u0644\\u0623\\u0633\\u0639\\u0627\\u0631\"\n        ],\n        \"semantic_type\": \"\",\n        \"description\": \"\"\n      }\n    }\n  ]\n}"
            }
          },
          "metadata": {},
          "execution_count": 127
        }
      ]
    },
    {
      "cell_type": "code",
      "source": [
        "df['label'].value_counts()\n"
      ],
      "metadata": {
        "colab": {
          "base_uri": "https://localhost:8080/",
          "height": 209
        },
        "id": "u9-1RAwOWPIy",
        "outputId": "e2726eaf-0a44-4e8c-ddc5-264109d7f0fb"
      },
      "execution_count": null,
      "outputs": [
        {
          "output_type": "execute_result",
          "data": {
            "text/plain": [
              "label\n",
              "Positive    33333\n",
              "Mixed       33333\n",
              "Negative    33333\n",
              "Name: count, dtype: int64"
            ],
            "text/html": [
              "<div>\n",
              "<style scoped>\n",
              "    .dataframe tbody tr th:only-of-type {\n",
              "        vertical-align: middle;\n",
              "    }\n",
              "\n",
              "    .dataframe tbody tr th {\n",
              "        vertical-align: top;\n",
              "    }\n",
              "\n",
              "    .dataframe thead th {\n",
              "        text-align: right;\n",
              "    }\n",
              "</style>\n",
              "<table border=\"1\" class=\"dataframe\">\n",
              "  <thead>\n",
              "    <tr style=\"text-align: right;\">\n",
              "      <th></th>\n",
              "      <th>count</th>\n",
              "    </tr>\n",
              "    <tr>\n",
              "      <th>label</th>\n",
              "      <th></th>\n",
              "    </tr>\n",
              "  </thead>\n",
              "  <tbody>\n",
              "    <tr>\n",
              "      <th>Positive</th>\n",
              "      <td>33333</td>\n",
              "    </tr>\n",
              "    <tr>\n",
              "      <th>Mixed</th>\n",
              "      <td>33333</td>\n",
              "    </tr>\n",
              "    <tr>\n",
              "      <th>Negative</th>\n",
              "      <td>33333</td>\n",
              "    </tr>\n",
              "  </tbody>\n",
              "</table>\n",
              "</div><br><label><b>dtype:</b> int64</label>"
            ]
          },
          "metadata": {},
          "execution_count": 128
        }
      ]
    },
    {
      "cell_type": "code",
      "source": [
        "df['sentiment_id'] = df['label'].map({'Negative': 0, 'Positive': 1, 'Mixed': 2})"
      ],
      "metadata": {
        "id": "8XFuVHT_VLhJ"
      },
      "execution_count": null,
      "outputs": []
    },
    {
      "cell_type": "code",
      "source": [
        "df['sentiment_id'].value_counts()"
      ],
      "metadata": {
        "colab": {
          "base_uri": "https://localhost:8080/",
          "height": 209
        },
        "id": "9K2vtmNGWCF4",
        "outputId": "77688c0b-ce54-462f-e6b7-9f8592defdb9"
      },
      "execution_count": null,
      "outputs": [
        {
          "output_type": "execute_result",
          "data": {
            "text/plain": [
              "sentiment_id\n",
              "1    33333\n",
              "2    33333\n",
              "0    33333\n",
              "Name: count, dtype: int64"
            ],
            "text/html": [
              "<div>\n",
              "<style scoped>\n",
              "    .dataframe tbody tr th:only-of-type {\n",
              "        vertical-align: middle;\n",
              "    }\n",
              "\n",
              "    .dataframe tbody tr th {\n",
              "        vertical-align: top;\n",
              "    }\n",
              "\n",
              "    .dataframe thead th {\n",
              "        text-align: right;\n",
              "    }\n",
              "</style>\n",
              "<table border=\"1\" class=\"dataframe\">\n",
              "  <thead>\n",
              "    <tr style=\"text-align: right;\">\n",
              "      <th></th>\n",
              "      <th>count</th>\n",
              "    </tr>\n",
              "    <tr>\n",
              "      <th>sentiment_id</th>\n",
              "      <th></th>\n",
              "    </tr>\n",
              "  </thead>\n",
              "  <tbody>\n",
              "    <tr>\n",
              "      <th>1</th>\n",
              "      <td>33333</td>\n",
              "    </tr>\n",
              "    <tr>\n",
              "      <th>2</th>\n",
              "      <td>33333</td>\n",
              "    </tr>\n",
              "    <tr>\n",
              "      <th>0</th>\n",
              "      <td>33333</td>\n",
              "    </tr>\n",
              "  </tbody>\n",
              "</table>\n",
              "</div><br><label><b>dtype:</b> int64</label>"
            ]
          },
          "metadata": {},
          "execution_count": 130
        }
      ]
    },
    {
      "cell_type": "code",
      "source": [
        "model.wv.get_mean_vector('مرحبا انا احمد').shape"
      ],
      "metadata": {
        "colab": {
          "base_uri": "https://localhost:8080/"
        },
        "id": "rBhzpy7cWu5B",
        "outputId": "2c8b3d7c-b6dd-4ac7-da35-37e334086055"
      },
      "execution_count": null,
      "outputs": [
        {
          "output_type": "execute_result",
          "data": {
            "text/plain": [
              "(300,)"
            ]
          },
          "metadata": {},
          "execution_count": 131
        }
      ]
    },
    {
      "cell_type": "code",
      "source": [
        "df['pre_text'] = df['text'].apply(preprocess_text)"
      ],
      "metadata": {
        "id": "vSEZZNIET2YA"
      },
      "execution_count": null,
      "outputs": []
    },
    {
      "cell_type": "code",
      "source": [
        "df['len'] = df['pre_text'].apply(len)\n",
        "sorted_df = df.sort_values(by='len')\n"
      ],
      "metadata": {
        "id": "CZI14s9HndjN"
      },
      "execution_count": null,
      "outputs": []
    },
    {
      "cell_type": "code",
      "source": [
        "zero_count = df['len'].value_counts().get(0, 0)\n",
        "zero_count"
      ],
      "metadata": {
        "colab": {
          "base_uri": "https://localhost:8080/"
        },
        "id": "2GNkyxuSp_D8",
        "outputId": "58124099-0bb2-480a-9a73-3941d2e391dd"
      },
      "execution_count": null,
      "outputs": [
        {
          "output_type": "execute_result",
          "data": {
            "text/plain": [
              "4"
            ]
          },
          "metadata": {},
          "execution_count": 134
        }
      ]
    },
    {
      "cell_type": "code",
      "source": [
        "# prompt: del any row that contais zero in colomn len\n",
        "\n",
        "# Assuming your DataFrame is named 'df' and the column with length is 'len'\n",
        "df = df[df['len'] != 0]"
      ],
      "metadata": {
        "id": "idA3NFf2kgkY"
      },
      "execution_count": null,
      "outputs": []
    },
    {
      "cell_type": "code",
      "source": [
        "df['token_pre_text'] = df['pre_text'].apply(model.wv.get_mean_vector)"
      ],
      "metadata": {
        "id": "9c_3m_5qRcAO"
      },
      "execution_count": null,
      "outputs": []
    },
    {
      "cell_type": "code",
      "source": [
        "df['split_pre_text'] = df['pre_text'].apply(lambda x: x.split(' '))"
      ],
      "metadata": {
        "id": "fD7XvPwXIuVx"
      },
      "execution_count": null,
      "outputs": []
    },
    {
      "cell_type": "code",
      "source": [
        "df['splited_token_pre_text'] = df['split_pre_text'].apply(lambda x: [model.wv[word] for word in x if word in model.wv])"
      ],
      "metadata": {
        "id": "-c6E17EWJMxW"
      },
      "execution_count": null,
      "outputs": []
    },
    {
      "cell_type": "code",
      "source": [
        "df['token_pre_text1'] = df['split_pre_text'].apply(model.wv.get_mean_vector)\n"
      ],
      "metadata": {
        "id": "jIK-TopGByyY"
      },
      "execution_count": null,
      "outputs": []
    },
    {
      "cell_type": "code",
      "source": [
        "df.head()"
      ],
      "metadata": {
        "colab": {
          "base_uri": "https://localhost:8080/",
          "height": 310
        },
        "id": "KaIRP1xL_H6o",
        "outputId": "48d6276b-14f5-4dd7-8976-d9a151d71b5e"
      },
      "execution_count": null,
      "outputs": [
        {
          "output_type": "execute_result",
          "data": {
            "text/plain": [
              "      label                                               text  sentiment_id  \\\n",
              "0  Positive  ممتاز نوعا ما . النظافة والموقع والتجهيز والشا...             1   \n",
              "1  Positive  أحد أسباب نجاح الإمارات أن كل شخص في هذه الدول...             1   \n",
              "2  Positive  هادفة .. وقوية. تنقلك من صخب شوارع القاهرة الى...             1   \n",
              "3  Positive  خلصنا .. مبدئيا اللي مستني ابهار زي الفيل الاز...             1   \n",
              "4  Positive  ياسات جلوريا جزء لا يتجزأ من دبي . فندق متكامل...             1   \n",
              "\n",
              "                                            pre_text  len  \\\n",
              "0  ممتاز نوعا ما  النظافه والموقع والتجهيز والشاط...   55   \n",
              "1  احد اسباب نجاح الامارات ان كل شخص في هذه الدول...  266   \n",
              "2  هادفه  وقويه تنقلك من صخب شوارع القاهره الي هد...  244   \n",
              "3  خلصنا  مبدئيا اللي مستني ابهار زي الفيل الازرق...  546   \n",
              "4  ياسات جلوريا جزء لا يتجزا من دبي  فندق متكامل ...   72   \n",
              "\n",
              "                                      token_pre_text  \\\n",
              "0  [0.021329943, -0.014190531, 0.0119766975, 0.02...   \n",
              "1  [0.021861145, -0.004238168, 0.013688559, 0.014...   \n",
              "2  [0.021912878, -0.0044338442, 0.006241538, 0.01...   \n",
              "3  [0.019605493, -0.0036785312, 0.010711673, 0.01...   \n",
              "4  [0.023202064, -0.0067937807, 0.0039582797, 0.0...   \n",
              "\n",
              "                                      split_pre_text  \\\n",
              "0  [ممتاز, نوعا, ما, , النظافه, والموقع, والتجهيز...   \n",
              "1  [احد, اسباب, نجاح, الامارات, ان, كل, شخص, في, ...   \n",
              "2  [هادفه, , وقويه, تنقلك, من, صخب, شوارع, القاهر...   \n",
              "3  [خلصنا, , مبدئيا, اللي, مستني, ابهار, زي, الفي...   \n",
              "4  [ياسات, جلوريا, جزء, لا, يتجزا, من, دبي, , فند...   \n",
              "\n",
              "                              splited_token_pre_text  \\\n",
              "0  [[-0.23372424, -1.1465459, -0.02015821, -0.146...   \n",
              "1  [[0.8485289, -0.6995708, 4.528699, 0.19845344,...   \n",
              "2  [[-1.4771482, -1.0431504, -1.1252571, -0.42863...   \n",
              "3  [[1.4851264, -0.3000977, -2.3336613, 2.7977982...   \n",
              "4  [[0.08725966, -0.085079655, 0.2243625, 0.02274...   \n",
              "\n",
              "                                     token_pre_text1  \n",
              "0  [-0.009101096, -0.045267437, 0.03001101, 0.047...  \n",
              "1  [0.0039299685, -0.0040868684, 0.024516683, 0.0...  \n",
              "2  [-0.010773732, 0.020002183, 0.007639513, 0.014...  \n",
              "3  [0.012546906, -0.0029752594, 0.017621271, 0.02...  \n",
              "4  [-0.012654692, -0.016850619, 0.028867697, 0.02...  "
            ],
            "text/html": [
              "\n",
              "  <div id=\"df-7d9de224-d813-4ae1-8983-a1d63c0780e9\" class=\"colab-df-container\">\n",
              "    <div>\n",
              "<style scoped>\n",
              "    .dataframe tbody tr th:only-of-type {\n",
              "        vertical-align: middle;\n",
              "    }\n",
              "\n",
              "    .dataframe tbody tr th {\n",
              "        vertical-align: top;\n",
              "    }\n",
              "\n",
              "    .dataframe thead th {\n",
              "        text-align: right;\n",
              "    }\n",
              "</style>\n",
              "<table border=\"1\" class=\"dataframe\">\n",
              "  <thead>\n",
              "    <tr style=\"text-align: right;\">\n",
              "      <th></th>\n",
              "      <th>label</th>\n",
              "      <th>text</th>\n",
              "      <th>sentiment_id</th>\n",
              "      <th>pre_text</th>\n",
              "      <th>len</th>\n",
              "      <th>token_pre_text</th>\n",
              "      <th>split_pre_text</th>\n",
              "      <th>splited_token_pre_text</th>\n",
              "      <th>token_pre_text1</th>\n",
              "    </tr>\n",
              "  </thead>\n",
              "  <tbody>\n",
              "    <tr>\n",
              "      <th>0</th>\n",
              "      <td>Positive</td>\n",
              "      <td>ممتاز نوعا ما . النظافة والموقع والتجهيز والشا...</td>\n",
              "      <td>1</td>\n",
              "      <td>ممتاز نوعا ما  النظافه والموقع والتجهيز والشاط...</td>\n",
              "      <td>55</td>\n",
              "      <td>[0.021329943, -0.014190531, 0.0119766975, 0.02...</td>\n",
              "      <td>[ممتاز, نوعا, ما, , النظافه, والموقع, والتجهيز...</td>\n",
              "      <td>[[-0.23372424, -1.1465459, -0.02015821, -0.146...</td>\n",
              "      <td>[-0.009101096, -0.045267437, 0.03001101, 0.047...</td>\n",
              "    </tr>\n",
              "    <tr>\n",
              "      <th>1</th>\n",
              "      <td>Positive</td>\n",
              "      <td>أحد أسباب نجاح الإمارات أن كل شخص في هذه الدول...</td>\n",
              "      <td>1</td>\n",
              "      <td>احد اسباب نجاح الامارات ان كل شخص في هذه الدول...</td>\n",
              "      <td>266</td>\n",
              "      <td>[0.021861145, -0.004238168, 0.013688559, 0.014...</td>\n",
              "      <td>[احد, اسباب, نجاح, الامارات, ان, كل, شخص, في, ...</td>\n",
              "      <td>[[0.8485289, -0.6995708, 4.528699, 0.19845344,...</td>\n",
              "      <td>[0.0039299685, -0.0040868684, 0.024516683, 0.0...</td>\n",
              "    </tr>\n",
              "    <tr>\n",
              "      <th>2</th>\n",
              "      <td>Positive</td>\n",
              "      <td>هادفة .. وقوية. تنقلك من صخب شوارع القاهرة الى...</td>\n",
              "      <td>1</td>\n",
              "      <td>هادفه  وقويه تنقلك من صخب شوارع القاهره الي هد...</td>\n",
              "      <td>244</td>\n",
              "      <td>[0.021912878, -0.0044338442, 0.006241538, 0.01...</td>\n",
              "      <td>[هادفه, , وقويه, تنقلك, من, صخب, شوارع, القاهر...</td>\n",
              "      <td>[[-1.4771482, -1.0431504, -1.1252571, -0.42863...</td>\n",
              "      <td>[-0.010773732, 0.020002183, 0.007639513, 0.014...</td>\n",
              "    </tr>\n",
              "    <tr>\n",
              "      <th>3</th>\n",
              "      <td>Positive</td>\n",
              "      <td>خلصنا .. مبدئيا اللي مستني ابهار زي الفيل الاز...</td>\n",
              "      <td>1</td>\n",
              "      <td>خلصنا  مبدئيا اللي مستني ابهار زي الفيل الازرق...</td>\n",
              "      <td>546</td>\n",
              "      <td>[0.019605493, -0.0036785312, 0.010711673, 0.01...</td>\n",
              "      <td>[خلصنا, , مبدئيا, اللي, مستني, ابهار, زي, الفي...</td>\n",
              "      <td>[[1.4851264, -0.3000977, -2.3336613, 2.7977982...</td>\n",
              "      <td>[0.012546906, -0.0029752594, 0.017621271, 0.02...</td>\n",
              "    </tr>\n",
              "    <tr>\n",
              "      <th>4</th>\n",
              "      <td>Positive</td>\n",
              "      <td>ياسات جلوريا جزء لا يتجزأ من دبي . فندق متكامل...</td>\n",
              "      <td>1</td>\n",
              "      <td>ياسات جلوريا جزء لا يتجزا من دبي  فندق متكامل ...</td>\n",
              "      <td>72</td>\n",
              "      <td>[0.023202064, -0.0067937807, 0.0039582797, 0.0...</td>\n",
              "      <td>[ياسات, جلوريا, جزء, لا, يتجزا, من, دبي, , فند...</td>\n",
              "      <td>[[0.08725966, -0.085079655, 0.2243625, 0.02274...</td>\n",
              "      <td>[-0.012654692, -0.016850619, 0.028867697, 0.02...</td>\n",
              "    </tr>\n",
              "  </tbody>\n",
              "</table>\n",
              "</div>\n",
              "    <div class=\"colab-df-buttons\">\n",
              "\n",
              "  <div class=\"colab-df-container\">\n",
              "    <button class=\"colab-df-convert\" onclick=\"convertToInteractive('df-7d9de224-d813-4ae1-8983-a1d63c0780e9')\"\n",
              "            title=\"Convert this dataframe to an interactive table.\"\n",
              "            style=\"display:none;\">\n",
              "\n",
              "  <svg xmlns=\"http://www.w3.org/2000/svg\" height=\"24px\" viewBox=\"0 -960 960 960\">\n",
              "    <path d=\"M120-120v-720h720v720H120Zm60-500h600v-160H180v160Zm220 220h160v-160H400v160Zm0 220h160v-160H400v160ZM180-400h160v-160H180v160Zm440 0h160v-160H620v160ZM180-180h160v-160H180v160Zm440 0h160v-160H620v160Z\"/>\n",
              "  </svg>\n",
              "    </button>\n",
              "\n",
              "  <style>\n",
              "    .colab-df-container {\n",
              "      display:flex;\n",
              "      gap: 12px;\n",
              "    }\n",
              "\n",
              "    .colab-df-convert {\n",
              "      background-color: #E8F0FE;\n",
              "      border: none;\n",
              "      border-radius: 50%;\n",
              "      cursor: pointer;\n",
              "      display: none;\n",
              "      fill: #1967D2;\n",
              "      height: 32px;\n",
              "      padding: 0 0 0 0;\n",
              "      width: 32px;\n",
              "    }\n",
              "\n",
              "    .colab-df-convert:hover {\n",
              "      background-color: #E2EBFA;\n",
              "      box-shadow: 0px 1px 2px rgba(60, 64, 67, 0.3), 0px 1px 3px 1px rgba(60, 64, 67, 0.15);\n",
              "      fill: #174EA6;\n",
              "    }\n",
              "\n",
              "    .colab-df-buttons div {\n",
              "      margin-bottom: 4px;\n",
              "    }\n",
              "\n",
              "    [theme=dark] .colab-df-convert {\n",
              "      background-color: #3B4455;\n",
              "      fill: #D2E3FC;\n",
              "    }\n",
              "\n",
              "    [theme=dark] .colab-df-convert:hover {\n",
              "      background-color: #434B5C;\n",
              "      box-shadow: 0px 1px 3px 1px rgba(0, 0, 0, 0.15);\n",
              "      filter: drop-shadow(0px 1px 2px rgba(0, 0, 0, 0.3));\n",
              "      fill: #FFFFFF;\n",
              "    }\n",
              "  </style>\n",
              "\n",
              "    <script>\n",
              "      const buttonEl =\n",
              "        document.querySelector('#df-7d9de224-d813-4ae1-8983-a1d63c0780e9 button.colab-df-convert');\n",
              "      buttonEl.style.display =\n",
              "        google.colab.kernel.accessAllowed ? 'block' : 'none';\n",
              "\n",
              "      async function convertToInteractive(key) {\n",
              "        const element = document.querySelector('#df-7d9de224-d813-4ae1-8983-a1d63c0780e9');\n",
              "        const dataTable =\n",
              "          await google.colab.kernel.invokeFunction('convertToInteractive',\n",
              "                                                    [key], {});\n",
              "        if (!dataTable) return;\n",
              "\n",
              "        const docLinkHtml = 'Like what you see? Visit the ' +\n",
              "          '<a target=\"_blank\" href=https://colab.research.google.com/notebooks/data_table.ipynb>data table notebook</a>'\n",
              "          + ' to learn more about interactive tables.';\n",
              "        element.innerHTML = '';\n",
              "        dataTable['output_type'] = 'display_data';\n",
              "        await google.colab.output.renderOutput(dataTable, element);\n",
              "        const docLink = document.createElement('div');\n",
              "        docLink.innerHTML = docLinkHtml;\n",
              "        element.appendChild(docLink);\n",
              "      }\n",
              "    </script>\n",
              "  </div>\n",
              "\n",
              "\n",
              "<div id=\"df-63d8257f-70fb-4e1f-bfb8-00d1c6f9acfe\">\n",
              "  <button class=\"colab-df-quickchart\" onclick=\"quickchart('df-63d8257f-70fb-4e1f-bfb8-00d1c6f9acfe')\"\n",
              "            title=\"Suggest charts\"\n",
              "            style=\"display:none;\">\n",
              "\n",
              "<svg xmlns=\"http://www.w3.org/2000/svg\" height=\"24px\"viewBox=\"0 0 24 24\"\n",
              "     width=\"24px\">\n",
              "    <g>\n",
              "        <path d=\"M19 3H5c-1.1 0-2 .9-2 2v14c0 1.1.9 2 2 2h14c1.1 0 2-.9 2-2V5c0-1.1-.9-2-2-2zM9 17H7v-7h2v7zm4 0h-2V7h2v10zm4 0h-2v-4h2v4z\"/>\n",
              "    </g>\n",
              "</svg>\n",
              "  </button>\n",
              "\n",
              "<style>\n",
              "  .colab-df-quickchart {\n",
              "      --bg-color: #E8F0FE;\n",
              "      --fill-color: #1967D2;\n",
              "      --hover-bg-color: #E2EBFA;\n",
              "      --hover-fill-color: #174EA6;\n",
              "      --disabled-fill-color: #AAA;\n",
              "      --disabled-bg-color: #DDD;\n",
              "  }\n",
              "\n",
              "  [theme=dark] .colab-df-quickchart {\n",
              "      --bg-color: #3B4455;\n",
              "      --fill-color: #D2E3FC;\n",
              "      --hover-bg-color: #434B5C;\n",
              "      --hover-fill-color: #FFFFFF;\n",
              "      --disabled-bg-color: #3B4455;\n",
              "      --disabled-fill-color: #666;\n",
              "  }\n",
              "\n",
              "  .colab-df-quickchart {\n",
              "    background-color: var(--bg-color);\n",
              "    border: none;\n",
              "    border-radius: 50%;\n",
              "    cursor: pointer;\n",
              "    display: none;\n",
              "    fill: var(--fill-color);\n",
              "    height: 32px;\n",
              "    padding: 0;\n",
              "    width: 32px;\n",
              "  }\n",
              "\n",
              "  .colab-df-quickchart:hover {\n",
              "    background-color: var(--hover-bg-color);\n",
              "    box-shadow: 0 1px 2px rgba(60, 64, 67, 0.3), 0 1px 3px 1px rgba(60, 64, 67, 0.15);\n",
              "    fill: var(--button-hover-fill-color);\n",
              "  }\n",
              "\n",
              "  .colab-df-quickchart-complete:disabled,\n",
              "  .colab-df-quickchart-complete:disabled:hover {\n",
              "    background-color: var(--disabled-bg-color);\n",
              "    fill: var(--disabled-fill-color);\n",
              "    box-shadow: none;\n",
              "  }\n",
              "\n",
              "  .colab-df-spinner {\n",
              "    border: 2px solid var(--fill-color);\n",
              "    border-color: transparent;\n",
              "    border-bottom-color: var(--fill-color);\n",
              "    animation:\n",
              "      spin 1s steps(1) infinite;\n",
              "  }\n",
              "\n",
              "  @keyframes spin {\n",
              "    0% {\n",
              "      border-color: transparent;\n",
              "      border-bottom-color: var(--fill-color);\n",
              "      border-left-color: var(--fill-color);\n",
              "    }\n",
              "    20% {\n",
              "      border-color: transparent;\n",
              "      border-left-color: var(--fill-color);\n",
              "      border-top-color: var(--fill-color);\n",
              "    }\n",
              "    30% {\n",
              "      border-color: transparent;\n",
              "      border-left-color: var(--fill-color);\n",
              "      border-top-color: var(--fill-color);\n",
              "      border-right-color: var(--fill-color);\n",
              "    }\n",
              "    40% {\n",
              "      border-color: transparent;\n",
              "      border-right-color: var(--fill-color);\n",
              "      border-top-color: var(--fill-color);\n",
              "    }\n",
              "    60% {\n",
              "      border-color: transparent;\n",
              "      border-right-color: var(--fill-color);\n",
              "    }\n",
              "    80% {\n",
              "      border-color: transparent;\n",
              "      border-right-color: var(--fill-color);\n",
              "      border-bottom-color: var(--fill-color);\n",
              "    }\n",
              "    90% {\n",
              "      border-color: transparent;\n",
              "      border-bottom-color: var(--fill-color);\n",
              "    }\n",
              "  }\n",
              "</style>\n",
              "\n",
              "  <script>\n",
              "    async function quickchart(key) {\n",
              "      const quickchartButtonEl =\n",
              "        document.querySelector('#' + key + ' button');\n",
              "      quickchartButtonEl.disabled = true;  // To prevent multiple clicks.\n",
              "      quickchartButtonEl.classList.add('colab-df-spinner');\n",
              "      try {\n",
              "        const charts = await google.colab.kernel.invokeFunction(\n",
              "            'suggestCharts', [key], {});\n",
              "      } catch (error) {\n",
              "        console.error('Error during call to suggestCharts:', error);\n",
              "      }\n",
              "      quickchartButtonEl.classList.remove('colab-df-spinner');\n",
              "      quickchartButtonEl.classList.add('colab-df-quickchart-complete');\n",
              "    }\n",
              "    (() => {\n",
              "      let quickchartButtonEl =\n",
              "        document.querySelector('#df-63d8257f-70fb-4e1f-bfb8-00d1c6f9acfe button');\n",
              "      quickchartButtonEl.style.display =\n",
              "        google.colab.kernel.accessAllowed ? 'block' : 'none';\n",
              "    })();\n",
              "  </script>\n",
              "</div>\n",
              "\n",
              "    </div>\n",
              "  </div>\n"
            ],
            "application/vnd.google.colaboratory.intrinsic+json": {
              "type": "dataframe",
              "variable_name": "df",
              "summary": "{\n  \"name\": \"df\",\n  \"rows\": 99995,\n  \"fields\": [\n    {\n      \"column\": \"label\",\n      \"properties\": {\n        \"dtype\": \"category\",\n        \"num_unique_values\": 3,\n        \"samples\": [\n          \"Positive\",\n          \"Mixed\",\n          \"Negative\"\n        ],\n        \"semantic_type\": \"\",\n        \"description\": \"\"\n      }\n    },\n    {\n      \"column\": \"text\",\n      \"properties\": {\n        \"dtype\": \"string\",\n        \"num_unique_values\": 99995,\n        \"samples\": [\n          \"\\u0645\\u062c\\u0645\\u0648\\u0639\\u0629 \\u0645\\u0642\\u0627\\u0644\\u0627\\u062a \\u0644\\u0644\\u0643\\u0627\\u062a\\u0628: \\u0639\\u0628\\u062f\\u0627\\u0644\\u0644\\u0647 \\u0627\\u0644\\u0645\\u063a\\u0644\\u0648\\u062b \\u062c\\u0645\\u0639\\u0647\\u0627 \\u0641\\u064a \\u0643\\u062a\\u0627\\u0628 \\u0648\\u0627\\u062d\\u062f \\u064a\\u0646\\u0642\\u062f \\u0641\\u064a\\u0647 \\u0628\\u0639\\u0636 \\u0638\\u0648\\u0627\\u0647\\u0631 \\u0627\\u0644\\u0645\\u062c\\u062a\\u0645\\u0639 \\u0627\\u0644\\u0633\\u0639\\u0648\\u062f\\u064a \\u060c \\u0648\\u064a\\u0636\\u0639 \\u062d\\u0644\\u0648\\u0644 \\u0644\\u0628\\u0639\\u0636 \\u0647\\u0630\\u0647 \\u0627\\u0644\\u0638\\u0648\\u0627\\u0647\\u0631 \\u0627\\u0644\\u0633\\u064a\\u0626\\u0629 \\u0648\\u0630\\u0643\\u0631 \\u0641\\u064a \\u0628\\u0639\\u0636\\u0647\\u0627 \\u0642\\u0635\\u0635 \\u0648\\u0627\\u0642\\u0639\\u064a\\u0629 \\u0645\\u0631\\u062a \\u0639\\u0644\\u064a\\u0647 \\u0628\\u0646\\u0641\\u0633\\u0647 \\u060c \\u0639\\u0646\\u062f\\u0645\\u0627 \\u0643\\u0627\\u0646 \\u0645\\u0628\\u062a\\u0639\\u062b\\u0627 \\u0641\\u064a \\u0627\\u0645\\u0631\\u064a\\u0643\\u0627 \\u0644\\u0644\\u062d\\u0635\\u0648\\u0644 \\u0639\\u0644\\u0649 \\u0627\\u0644\\u0645\\u0627\\u062c\\u0633\\u062a\\u064a\\u0631 .. \\u0643\\u062a\\u0627\\u0628 \\u0645\\u0645\\u062a\\u0627\\u0632 \\u0648\\u0644\\u0643\\u0646\\u0647 \\u0644\\u064a\\u0633 \\u0644\\u062f\\u0631\\u062c\\u0629 \\u0627\\u0644\\u062c\\u0645\\u0627\\u0644 \\u0648\\u0627\\u0644\\u0631\\u0648\\u0639\\u0629 ..\",\n          \"\\u0645\\u0646 \\u0627\\u0641\\u0636\\u0644 \\u0627\\u0644\\u0641\\u0646\\u0627\\u062f\\u0642 . . \\u0641\\u0646\\u062f\\u0642 \\u0631\\u0627\\u0626\\u0639 \\u0648\\u0646\\u0638\\u064a\\u0641 \\u0628\\u0643\\u0644 \\u0627\\u0644\\u0645\\u0642\\u0627\\u064a\\u064a\\u0633 .\\u0641\\u062e\\u0627\\u0645\\u0647 \\u0648\\u0627\\u0641\\u0637\\u0627\\u0631 \\u0648\\u064a\\u0635\\u0644\\u062d \\u0644\\u0644\\u0639\\u0648\\u0627\\u0626\\u0644 \\u0648\\u0645\\u0648\\u0642\\u0639\\u0647 \\u0645\\u0646\\u0627\\u0633\\u0628.. \\u0627\\u0644\\u0644\\u0648\\u0628\\u064a \\u0635\\u063a\\u064a\\u0631 \\u0648\\u0644\\u0643\\u0646 \\u0644\\u064a\\u0633 \\u0633\\u0628\\u0628 \\u064a\\u0646\\u0642\\u0635 \\u0645\\u0646 \\u0641\\u062e\\u0627\\u0645\\u0629 \\u0627\\u0644\\u0641\\u0646\\u062f\\u0642.\",\n          \"\\u0645\\u0627 \\u0642\\u0631\\u0623\\u062a\\u0647 \\u0645\\u0646 \\u0623\\u0647\\u0648\\u0627\\u0644 \\u0645\\u0627 \\u064a\\u062d\\u062f\\u062b \\u0641\\u064a \\u0627\\u0644\\u0645\\u062c\\u0627\\u0639\\u0627\\u062a \\u0645\\u0646 \\u0627\\u0643\\u0644 \\u0627\\u0644\\u0632\\u0648\\u0627\\u062d\\u0641 \\u0648\\u0627\\u0644\\u0643\\u0644\\u0627\\u0628 \\u0648\\u0627\\u0644\\u0642\\u0637\\u0637 \\u0648\\u0627\\u0644\\u062c\\u064a\\u0641\\u0647 \\u0628\\u0644 \\u0648\\u0627\\u0644\\u0628\\u0634\\u0631 \\u0627\\u0646\\u0641\\u0633\\u0647\\u0645 \\u0623\\u0637\\u0641\\u0627\\u0644 \\u0648\\u0643\\u0628\\u0627\\u0631 \\u0644\\u0645 \\u0627\\u0643\\u0646 \\u0623\\u062a\\u0635\\u0648\\u0631\\u0647 \\u0648\\u0644\\u0643\\u0646 \\u0645\\u0627 \\u064a\\u0630\\u0643\\u0631\\u0647 \\u0627\\u0644\\u0643\\u062a\\u0627\\u0628 \\u0623\\u0646 \\u0627\\u0644\\u0645\\u062c\\u0627\\u0639\\u0627\\u062a \\u0627\\u0644\\u062a\\u064a \\u062d\\u062f\\u062b\\u062a \\u0639\\u0644\\u064a \\u0645\\u0631 \\u062a\\u0627\\u0631\\u064a\\u062e \\u0645\\u0635\\u0631 \\u0643\\u0627\\u0646 \\u0642\\u0627\\u0633\\u0645\\u0647\\u0627 \\u0627\\u0644\\u0645\\u0634\\u062a\\u0631\\u0643. \\u062a\\u0648\\u0644\\u064a\\u0647 \\u0623\\u0647\\u0644 \\u0627\\u0644\\u062b\\u0642\\u0647 \\u0648\\u0644\\u064a\\u0633 \\u0623\\u0647\\u0644 \\u0627\\u0644\\u062e\\u0628\\u0631\\u0647 \\u060c \\u0627\\u0632\\u062f\\u064a\\u0627\\u062f \\u0627\\u0644\\u0631\\u0634\\u0627\\u0648\\u064a\\u060c \\u063a\\u064a\\u0627\\u0628 \\u0627\\u0644\\u0627\\u0645\\u0646\\u060c \\u062c\\u0634\\u0627\\u0639\\u0647 \\u0627\\u0644\\u062a\\u062c\\u0627\\u0631 \\u0648\\u0627\\u0633\\u062a\\u063a\\u0644\\u0627\\u0644 \\u0627\\u0644\\u0642\\u062d\\u062a \\u0648\\u0627\\u0631\\u062a\\u0641\\u0627\\u0639 \\u0627\\u0644\\u0623\\u0633\\u0639\\u0627\\u0631. \\u0648\\u0644\\u0627 \\u0627\\u062c\\u062f \\u0647\\u0630\\u0647 \\u0627\\u0644\\u0623\\u0634\\u064a\\u0627\\u0621 \\u0641 \\u063a\\u064a\\u0627\\u0628 \\u0639\\u0646\\u0627\"\n        ],\n        \"semantic_type\": \"\",\n        \"description\": \"\"\n      }\n    },\n    {\n      \"column\": \"sentiment_id\",\n      \"properties\": {\n        \"dtype\": \"number\",\n        \"std\": 0,\n        \"min\": 0,\n        \"max\": 2,\n        \"num_unique_values\": 3,\n        \"samples\": [\n          1,\n          2,\n          0\n        ],\n        \"semantic_type\": \"\",\n        \"description\": \"\"\n      }\n    },\n    {\n      \"column\": \"pre_text\",\n      \"properties\": {\n        \"dtype\": \"string\",\n        \"num_unique_values\": 99890,\n        \"samples\": [\n          \"\\u0645\\u0642\\u0628\\u0648\\u0644  \\u0627\\u0644\\u063a\\u0631\\u0641 \\u0635\\u063a\\u064a\\u0631\\u0647 \\u0648\\u0627\\u0644\\u063a\\u0631\\u0641\\u0647 \\u0627\\u0644\\u0645\\u0632\\u062f\\u0648\\u062c\\u0647 \\u064a\\u0641\\u062a\\u062d \\u0628\\u0627\\u0628\\u0647\\u0627 \\u0639\\u0644\\u064a \\u0627\\u0644\\u0643\\u0648\\u0631\\u064a\\u0648\\u0631\\u0627\\u062a \\u0627\\u0644\\u062e\\u0627\\u0631\\u062c\\u064a\\u0647 \\u0645\\u0628\\u0627\\u0634\\u0631\\u0647 \\u0627\\u0644\\u0645\\u0648\\u0627\\u0642\\u0641 \\u0645\\u0644\\u0627\\u064a \\u0628\\u0627\\u0644\\u0627\\u0639\\u0645\\u062f\\u0647 \\u0645\\u0645\\u0627 \\u064a\\u0635\\u0639\\u0628 \\u0627\\u0644\\u062f\\u062e\\u0648\\u0644 \\u0648\\u0627\\u0644\\u062e\\u0631\\u0648\\u062c\",\n          \"\\u0627\\u062d\\u0633\\u0646 \\u0645\\u0627 \\u0641\\u064a\\u0647 \\u0627\\u0644\\u0645\\u0643\\u0627\\u0646 \\u0642\\u0631\\u064a\\u0628 \\u0645\\u0646 \\u0645\\u0648\\u0644 \\u0627\\u0644\\u0627\\u0645\\u0627\\u0631\\u0627\\u062a \\u0645\\u0634\\u064a \\u064a\\u0645\\u0643\\u0646 \\u0627\\u0628\\u0648 \\u062f\\u0642\\u0627\\u064a\\u0642 \\u0648\\u0627\\u0646\\u062a \\u0628\\u0648\\u0633\\u0637 \\u0627\\u0644\\u0645\\u0648\\u0644  \\u0645\\u0643\\u0627\\u0646\\u0647 \\u0641\\u0642\\u0637 \\u0627\\u0644\\u0646\\u0638\\u0627\\u0641\\u0647 \\u0627\\u0644\\u0645\\u0641\\u0627\\u0631\\u0634 \\u0648\\u0635\\u062e\\u0647 \\u0648\\u0641\\u064a\\u0647\\u0627 \\u0628\\u0642\\u0639 \\u0627\\u0644\\u0648\\u0627\\u064a \\u0641\\u0627\\u064a \\u0628\\u0637\\u064a\\u0626\",\n          \"\\u064a\\u062d\\u062a\\u0627\\u062c \\u062a\\u063a\\u064a\\u0631 \\u062c\\u0630\\u0631\\u064a \\u0639\\u0644\\u064a \\u0643\\u0644 \\u0627\\u0644\\u0645\\u0633\\u062a\\u0648\\u064a\\u0627\\u062a  \\u0641\\u0642\\u0637 \\u0627\\u0644\\u0645\\u0648\\u0642\\u0639 \\u0633\\u0626 \\u0627\\u0644\\u062e\\u062f\\u0645\\u0627\\u062a \\u0648\\u0627\\u0644\\u0627\\u0633\\u062a\\u0642\\u0628\\u0627\\u0644 \\u0648\\u0627\\u0644\\u0646\\u0638\\u0627\\u0641\\u0647 \\u0648\\u0627\\u0644\\u0635\\u064a\\u0627\\u0646\\u0647 \\u0648\\u0645\\u062a\\u062f\\u0646\\u064a \\u0641\\u064a \\u0645\\u0633\\u062a\\u0648\\u064a \\u0627\\u0644\\u062a\\u0639\\u0627\\u0645\\u0644 \\u0648\\u0644\\u0627 \\u064a\\u0645\\u0644\\u0643 \\u0637\\u0627\\u0642\\u0645 \\u0627\\u0644\\u0627\\u0633\\u062a\\u0642\\u0628\\u0627\\u0644 \\u0627\\u064a \\u062b\\u0642\\u0627\\u0641\\u0647 \\u0646\\u0627\\u0647\\u064a\\u0643 \\u0645\\u0639\\u0644\\u0648\\u0645\\u0627\\u062a \\u0639\\u0646 \\u0645\\u0631\\u0627\\u0641\\u0642 \\u0627\\u0644\\u0641\\u0646\\u062f\\u0642\"\n        ],\n        \"semantic_type\": \"\",\n        \"description\": \"\"\n      }\n    },\n    {\n      \"column\": \"len\",\n      \"properties\": {\n        \"dtype\": \"number\",\n        \"std\": 498,\n        \"min\": 1,\n        \"max\": 8080,\n        \"num_unique_values\": 3005,\n        \"samples\": [\n          149,\n          3531,\n          2494\n        ],\n        \"semantic_type\": \"\",\n        \"description\": \"\"\n      }\n    },\n    {\n      \"column\": \"token_pre_text\",\n      \"properties\": {\n        \"dtype\": \"object\",\n        \"semantic_type\": \"\",\n        \"description\": \"\"\n      }\n    },\n    {\n      \"column\": \"split_pre_text\",\n      \"properties\": {\n        \"dtype\": \"object\",\n        \"semantic_type\": \"\",\n        \"description\": \"\"\n      }\n    },\n    {\n      \"column\": \"splited_token_pre_text\",\n      \"properties\": {\n        \"dtype\": \"object\",\n        \"semantic_type\": \"\",\n        \"description\": \"\"\n      }\n    },\n    {\n      \"column\": \"token_pre_text1\",\n      \"properties\": {\n        \"dtype\": \"object\",\n        \"semantic_type\": \"\",\n        \"description\": \"\"\n      }\n    }\n  ]\n}"
            }
          },
          "metadata": {},
          "execution_count": 140
        }
      ]
    },
    {
      "cell_type": "code",
      "source": [
        "t = df['split_pre_text'].iloc[0]"
      ],
      "metadata": {
        "id": "CUwuIgYR_O1T"
      },
      "execution_count": null,
      "outputs": []
    },
    {
      "cell_type": "code",
      "source": [
        "t1 = df['pre_text'].iloc[0]\n"
      ],
      "metadata": {
        "id": "RZtj4yVx_Ze3"
      },
      "execution_count": null,
      "outputs": []
    },
    {
      "cell_type": "code",
      "source": [
        "t = model.wv.get_mean_vector(t)\n",
        "t1 = model.wv.get_mean_vector(t1)\n",
        "#t = t.reshape(1, -1)  # Reshape to a single row\n",
        "#t1 = t1.reshape(1, -1) # Reshape to a single row\n",
        "#cosine_similarity(t, t1)"
      ],
      "metadata": {
        "id": "6gyekfxu_k5Y"
      },
      "execution_count": null,
      "outputs": []
    },
    {
      "cell_type": "code",
      "source": [
        "t"
      ],
      "metadata": {
        "colab": {
          "base_uri": "https://localhost:8080/"
        },
        "id": "K3A_i315_7XX",
        "outputId": "789ae13b-e4b8-4805-ee46-a7bc16f71bf0"
      },
      "execution_count": null,
      "outputs": [
        {
          "output_type": "execute_result",
          "data": {
            "text/plain": [
              "array([-9.10109561e-03, -4.52674367e-02,  3.00110094e-02,  4.73269410e-02,\n",
              "       -1.45389391e-02, -2.58437940e-03,  1.04335602e-02,  1.80946104e-02,\n",
              "        3.97069193e-02, -4.31938693e-02,  3.34709231e-03, -7.10348133e-03,\n",
              "       -8.96313600e-03, -3.14744487e-02,  4.38488740e-03, -3.27853709e-02,\n",
              "        3.94863524e-02,  3.17942239e-02,  5.74069582e-02,  3.31192017e-02,\n",
              "       -5.92911579e-02,  4.70715901e-03, -2.73531806e-02, -2.23322418e-02,\n",
              "        9.28418897e-03,  5.31974062e-02,  2.74389004e-03, -1.70332938e-02,\n",
              "        3.20550241e-02, -1.79745685e-02, -6.05078530e-04,  5.39034307e-02,\n",
              "        7.60794710e-03, -9.77828912e-03, -1.21416580e-02,  1.88139025e-02,\n",
              "       -3.97455543e-02, -1.76920986e-03, -3.30739729e-02,  2.92988098e-03,\n",
              "       -5.72187640e-03,  5.23593184e-03, -4.89068329e-02, -1.66583806e-02,\n",
              "        1.23564554e-02, -8.89101252e-03,  4.91026118e-02, -1.94061510e-02,\n",
              "        2.84683146e-03, -4.57607582e-02, -7.81760830e-03, -1.69252791e-02,\n",
              "       -4.73671220e-02,  1.49410870e-02, -7.99199007e-03, -3.03304065e-02,\n",
              "        3.15493420e-02, -1.55005949e-02,  5.96662797e-03, -4.59267944e-02,\n",
              "       -3.46119367e-02,  6.99063670e-03,  3.62492502e-02, -6.55203313e-03,\n",
              "        1.83000881e-02,  3.00239250e-02,  2.06911154e-02, -1.18932119e-02,\n",
              "       -5.03090676e-04,  1.38520543e-02,  5.78142796e-03,  1.93309896e-02,\n",
              "       -3.85380387e-02, -4.08674292e-02, -8.84864405e-02, -1.00993281e-02,\n",
              "        1.51318982e-02, -4.21988219e-02, -2.71980651e-02, -4.04920913e-02,\n",
              "        4.04513325e-04,  3.64110991e-02,  3.87794618e-03,  2.66341250e-02,\n",
              "        1.21037764e-02, -1.12059964e-02,  2.89761703e-02,  8.29288363e-03,\n",
              "        3.32273543e-04,  1.85731128e-02,  1.09130098e-02,  2.70908922e-02,\n",
              "       -5.87283075e-03,  5.77269215e-03, -3.28192376e-02, -3.59145291e-02,\n",
              "       -1.39328353e-02, -3.35907657e-03, -1.73028763e-02,  2.79574487e-02,\n",
              "       -2.59371102e-02, -2.80090608e-02, -3.32702510e-02,  8.24516267e-03,\n",
              "        2.89237592e-02,  2.79547945e-02, -1.03420261e-02,  1.94174983e-02,\n",
              "       -4.91791815e-02, -4.17486839e-02,  1.79267377e-02, -5.04558608e-02,\n",
              "        3.50241251e-02, -2.04532295e-02,  1.20003857e-02,  1.01387724e-02,\n",
              "       -4.34447192e-02,  1.55457994e-02,  1.32332426e-02,  1.72579568e-02,\n",
              "       -1.73523221e-02,  1.52281113e-02, -8.56370665e-04, -1.16753457e-02,\n",
              "        2.05099974e-02, -8.41294695e-03, -2.68410519e-02, -4.47630957e-02,\n",
              "       -6.17391951e-02,  4.09706719e-02,  1.59763750e-02, -1.67255234e-02,\n",
              "       -1.19559085e-02, -2.41549574e-02,  4.57063392e-02,  8.09447318e-02,\n",
              "       -2.17194930e-02, -2.20239032e-02,  6.75694831e-03,  3.20140496e-02,\n",
              "       -2.89668627e-02,  1.41371423e-02,  2.54884772e-02,  2.01483257e-04,\n",
              "       -1.17117772e-03, -2.03735642e-02, -4.65156436e-02,  5.71066737e-02,\n",
              "        3.18174288e-02, -4.86039445e-02, -1.55914491e-02,  4.22046036e-02,\n",
              "       -6.52941540e-02, -1.58182755e-02, -1.80538110e-02, -3.59671330e-03,\n",
              "       -4.21612523e-03,  7.13422149e-02,  1.68084763e-02, -2.24117674e-02,\n",
              "       -5.38485311e-03,  1.93114262e-02,  1.33849625e-02, -2.29112450e-02,\n",
              "       -1.35934399e-02,  6.61892071e-03,  2.49658898e-02, -4.27614711e-02,\n",
              "       -4.03137542e-02,  1.71511956e-02, -1.86096244e-02,  3.08479257e-02,\n",
              "       -6.84705703e-03,  3.18117775e-02,  1.68569945e-03,  4.78797359e-03,\n",
              "       -5.30648045e-03,  2.25307187e-03, -1.43968649e-02, -5.96339330e-02,\n",
              "       -2.09194571e-02,  7.85031822e-03,  2.48852465e-02,  4.87081967e-02,\n",
              "        2.34818384e-02,  4.51355092e-02,  1.57871954e-02,  1.73639916e-02,\n",
              "       -4.56228573e-03, -2.32931487e-02, -1.16859153e-02,  1.66437821e-04,\n",
              "        3.65200546e-03, -2.73684971e-04,  2.78146770e-02, -3.60620208e-02,\n",
              "        2.36136541e-02, -1.34640476e-02, -4.48630098e-03, -1.82541702e-02,\n",
              "        3.83103713e-02,  1.60070397e-02, -1.37026273e-02,  2.00500395e-02,\n",
              "       -4.16692672e-03,  2.20535547e-02,  1.67032238e-02, -3.06601450e-02,\n",
              "       -1.93535648e-02, -3.73836122e-02, -6.43556938e-04, -2.38632457e-03,\n",
              "        7.37233553e-03, -2.10819691e-02, -3.13247815e-02, -1.18010910e-02,\n",
              "       -1.86078679e-02,  1.71635263e-02, -1.75012853e-02,  4.22631130e-02,\n",
              "       -1.93483513e-02, -1.67435687e-02,  6.25326345e-03,  1.87473558e-02,\n",
              "       -3.79448235e-02, -4.15992364e-02,  9.89606883e-03, -4.60316390e-02,\n",
              "       -2.25602500e-02,  1.73510313e-02, -1.19601339e-02,  2.13153437e-02,\n",
              "       -1.60660315e-02,  2.34568072e-03, -1.56975538e-02,  2.97521167e-02,\n",
              "       -2.45153531e-02,  1.39915887e-02, -1.54653210e-02,  1.04185641e-02,\n",
              "       -3.05017512e-02, -3.53680253e-02, -2.93857846e-02,  4.07841206e-02,\n",
              "       -2.85325125e-02,  8.19924381e-03,  2.01568902e-02,  2.49822158e-02,\n",
              "       -5.56329917e-03, -9.18138959e-03, -3.28934230e-02, -1.38087710e-02,\n",
              "        3.33825941e-03, -2.03774422e-02,  3.83047909e-02,  2.22894037e-03,\n",
              "        5.56378253e-03, -6.30715769e-03, -4.01712283e-02, -8.69151652e-02,\n",
              "       -7.62664480e-03,  1.25979390e-02, -2.42514182e-02,  1.29702222e-02,\n",
              "       -6.57518283e-02,  1.48549499e-02,  1.66996699e-02, -2.07158439e-02,\n",
              "        5.04400115e-04, -1.11440364e-02,  1.65874138e-02, -3.70002538e-02,\n",
              "       -2.23855134e-02, -3.82066816e-02, -4.71214540e-02, -2.74136700e-02,\n",
              "       -1.01242922e-02,  3.00447699e-02,  3.39192189e-02, -2.84434017e-03,\n",
              "       -9.15635936e-03,  1.60102025e-02, -1.99428536e-02,  1.60406828e-02,\n",
              "       -9.26475506e-03, -5.73123759e-03, -3.21483389e-02,  5.66242356e-03,\n",
              "       -9.91618168e-03,  1.96104916e-03, -2.01320145e-02, -8.40212964e-03,\n",
              "       -9.29180440e-03,  2.70919520e-02,  1.35777723e-02, -1.89070608e-02,\n",
              "       -2.39680521e-05,  5.54436259e-02,  3.49189900e-02, -2.35894751e-02],\n",
              "      dtype=float32)"
            ]
          },
          "metadata": {},
          "execution_count": 144
        }
      ]
    },
    {
      "cell_type": "code",
      "source": [
        "t1"
      ],
      "metadata": {
        "colab": {
          "base_uri": "https://localhost:8080/"
        },
        "id": "amHVQXOa_-fc",
        "outputId": "250cdb8d-629b-431a-a429-14e9aa54f70b"
      },
      "execution_count": null,
      "outputs": [
        {
          "output_type": "execute_result",
          "data": {
            "text/plain": [
              "array([ 0.02132994, -0.01419053,  0.0119767 ,  0.02186675,  0.03862116,\n",
              "        0.05942611,  0.08537691, -0.02109909,  0.05900117,  0.00259723,\n",
              "        0.01177322,  0.02280472,  0.00026968, -0.02555431,  0.02851556,\n",
              "       -0.06554479, -0.0378251 , -0.02359419,  0.02337116, -0.02899427,\n",
              "        0.0193561 , -0.06219874, -0.05836715, -0.01304168, -0.04191067,\n",
              "        0.02203443,  0.09535282,  0.01904614,  0.02284197,  0.03676906,\n",
              "       -0.03904083,  0.0047261 ,  0.05414382, -0.02839557, -0.05809548,\n",
              "       -0.0856571 , -0.04978403, -0.00372792,  0.05041186,  0.04573576,\n",
              "        0.00817351,  0.04222239,  0.0175384 ,  0.09535573, -0.00823621,\n",
              "        0.01168289,  0.04765123, -0.02860883, -0.0049398 , -0.00241276,\n",
              "       -0.08725408, -0.02425006, -0.02426821,  0.0667076 , -0.05557822,\n",
              "       -0.01003243,  0.0125223 ,  0.03951412,  0.03237841,  0.08102401,\n",
              "       -0.00901108, -0.009206  ,  0.03719442,  0.04687176, -0.02433636,\n",
              "        0.05939181,  0.11947937,  0.02168247,  0.0225492 ,  0.12400616,\n",
              "       -0.04636933, -0.00711746, -0.01133115,  0.01078216,  0.01470446,\n",
              "       -0.00857932,  0.03174594,  0.02471921,  0.06411372,  0.0011043 ,\n",
              "       -0.02722486, -0.02465637, -0.045996  ,  0.00876306,  0.00961325,\n",
              "        0.02228123, -0.05547068,  0.04122103,  0.01938332, -0.03532834,\n",
              "        0.01381222, -0.08465926, -0.02065393,  0.02798527, -0.05942597,\n",
              "       -0.01159649,  0.00321661,  0.01403144, -0.03093853, -0.0403653 ,\n",
              "       -0.05771476, -0.00486821, -0.06599656, -0.06198976, -0.00470694,\n",
              "        0.01686602, -0.01279248, -0.02418821, -0.08310554, -0.03502525,\n",
              "       -0.01923281, -0.06966255,  0.00770239,  0.02507694,  0.00158998,\n",
              "       -0.00960178,  0.00513453,  0.04966537, -0.00529718, -0.007652  ,\n",
              "       -0.03824626,  0.0337326 ,  0.0097525 ,  0.0100877 , -0.04520455,\n",
              "        0.01665474,  0.02706034,  0.01304567, -0.00525689,  0.03694429,\n",
              "        0.08099108, -0.00056807, -0.10152178, -0.03564624,  0.03456767,\n",
              "        0.09004947, -0.04381027, -0.01156297,  0.01591195,  0.03003111,\n",
              "       -0.02678349,  0.0371145 , -0.0278474 ,  0.03078205, -0.02358672,\n",
              "       -0.07093539, -0.04631735,  0.05540263, -0.07796355, -0.05448132,\n",
              "       -0.06904638, -0.00614351, -0.02167629, -0.01288228, -0.04836879,\n",
              "        0.00900455,  0.0824315 ,  0.03620058,  0.01078121, -0.03568583,\n",
              "        0.00947453, -0.03045169, -0.00358254,  0.03149167,  0.00491047,\n",
              "       -0.06016775,  0.00041603, -0.03399686,  0.01271644,  0.00296019,\n",
              "        0.01876812,  0.00755704,  0.058792  ,  0.03195506, -0.00302137,\n",
              "        0.03042149, -0.00556321,  0.00388016,  0.01213862, -0.0244636 ,\n",
              "       -0.02208953,  0.01222133,  0.06057275, -0.04784145,  0.07586612,\n",
              "        0.02972123,  0.05263801,  0.04290365, -0.0065081 , -0.0331763 ,\n",
              "       -0.05686846,  0.03875879,  0.02331163, -0.02594592, -0.04999423,\n",
              "        0.00334504, -0.00856988,  0.01322715, -0.01349347,  0.05413573,\n",
              "        0.0541983 , -0.0288165 , -0.00148503, -0.06333039,  0.0012713 ,\n",
              "       -0.07106648,  0.07480508, -0.02943208, -0.08454905, -0.04093338,\n",
              "       -0.04328767,  0.07851292, -0.06369459,  0.02737053,  0.00413639,\n",
              "       -0.02567948, -0.02263861, -0.0834211 , -0.06982666,  0.03299279,\n",
              "       -0.00323885,  0.00197641, -0.01053072, -0.01384415,  0.01145623,\n",
              "       -0.06560298,  0.00056265, -0.07720759, -0.05287341, -0.04749967,\n",
              "       -0.00419604, -0.01442563, -0.02767678, -0.02522806,  0.06605149,\n",
              "        0.03256155,  0.03621251,  0.02073157,  0.01171859, -0.04287421,\n",
              "       -0.01796525,  0.05848043,  0.05825339,  0.01436164, -0.05997801,\n",
              "        0.06649438,  0.00058855, -0.03252649,  0.02869311, -0.02020905,\n",
              "       -0.01504915,  0.04093744, -0.02268239, -0.05785674,  0.01165312,\n",
              "        0.04325733, -0.02001132,  0.04715957, -0.07173847,  0.00076763,\n",
              "       -0.03126797,  0.1002114 , -0.07562984, -0.10442849,  0.01267535,\n",
              "        0.0395582 , -0.0475158 , -0.00435444, -0.02031188, -0.01419609,\n",
              "        0.07649276, -0.1176673 ,  0.01615512,  0.00803083,  0.0611428 ,\n",
              "       -0.03023108,  0.0333415 , -0.00032448,  0.03296186, -0.00144702,\n",
              "        0.03860337,  0.00654788,  0.04194845,  0.00196846,  0.04743778,\n",
              "        0.01284471, -0.03914874, -0.05313519, -0.12982741, -0.01078461,\n",
              "       -0.09927484,  0.00460651,  0.00267465,  0.0040555 , -0.01319773,\n",
              "        0.05480911, -0.03481099, -0.01985863,  0.00464366, -0.05483636],\n",
              "      dtype=float32)"
            ]
          },
          "metadata": {},
          "execution_count": 145
        }
      ]
    },
    {
      "cell_type": "code",
      "source": [
        "df['len'].min()"
      ],
      "metadata": {
        "colab": {
          "base_uri": "https://localhost:8080/"
        },
        "id": "0M-Kf-Qf4r_e",
        "outputId": "ba82dffd-c01e-4283-ead6-7259caf21617"
      },
      "execution_count": null,
      "outputs": [
        {
          "output_type": "execute_result",
          "data": {
            "text/plain": [
              "1"
            ]
          },
          "metadata": {},
          "execution_count": 146
        }
      ]
    },
    {
      "cell_type": "code",
      "source": [
        "df2=df.loc[df['sentiment_id'] == 0]\n",
        "df2"
      ],
      "metadata": {
        "colab": {
          "base_uri": "https://localhost:8080/",
          "height": 736
        },
        "id": "a1z8Lhe7VK96",
        "outputId": "42299a44-d487-4d40-bc46-26c0894a930e"
      },
      "execution_count": null,
      "outputs": [
        {
          "output_type": "execute_result",
          "data": {
            "text/plain": [
              "          label                                               text  \\\n",
              "66666  Negative  لو كانت هذه الرواية تستحق النجوم الخمس؛ لانتقص...   \n",
              "66667  Negative  ضعيف جدا. قريب من الحرم ........ لكن يوجد طلعة...   \n",
              "66668  Negative  سيئه جدا . وجود بقاله ومغسله. المكيفات لاتعمل ...   \n",
              "66669  Negative         سعر الاتفاق تغير عند الوصول الى الفندق . .   \n",
              "66670  Negative  ضعيف. . طلبت اغطيه للاطفال المرافقين ولم يتجاو...   \n",
              "...         ...                                                ...   \n",
              "99994  Negative  معرفش ليه كنت عاوزة أكملها وهي مش عاجباني من ا...   \n",
              "99995  Negative  لا يستحق ان يكون في بوكنق لانه سيئ . لا شي. لا...   \n",
              "99996  Negative  كتاب ضعيف جدا ولم استمتع به. فى كل قصه سرد لحا...   \n",
              "99997  Negative  مملة جدا. محمد حسن علوان فنان بالكلمات، والوصف...   \n",
              "99998  Negative  لن ارجع إليه مرة اخرى . قربه من البحر. المكان ...   \n",
              "\n",
              "       sentiment_id                                           pre_text  len  \\\n",
              "66666             0  لو كانت هذه الروايه تستحق النجوم الخمس لانتقص ...  435   \n",
              "66667             0  ضعيف جدا قريب من الحرم  لكن يوجد طلعه الفندق ص...   67   \n",
              "66668             0  سيئه جدا  وجود بقاله ومغسله المكيفات لاتعمل با...  125   \n",
              "66669             0             سعر الاتفاق تغير عند الوصول الي الفندق   38   \n",
              "66670             0  ضعيف  طلبت اغطيه للاطفال المرافقين ولم يتجاوبو...  178   \n",
              "...             ...                                                ...  ...   \n",
              "99994             0  معرفش ليه كنت عاوزه اكملها وهي مش عاجباني من ا...  165   \n",
              "99995             0  لا يستحق ان يكون في بوكنق لانه سيئ  لا شي لا ي...   88   \n",
              "99996             0  كتاب ضعيف جدا ولم استمتع به في كل قصه سرد لحال...   71   \n",
              "99997             0  ممله جدا محمد حسن علوان فنان بالكلمات والوصف ع...  151   \n",
              "99998             0  لن ارجع اليه مره اخري  قربه من البحر المكان قد...   77   \n",
              "\n",
              "                                          token_pre_text  \\\n",
              "66666  [0.019033818, -0.003167387, 0.0077725374, 0.01...   \n",
              "66667  [0.025115509, -2.0212723e-05, 0.0068238676, 0....   \n",
              "66668  [0.026582032, -0.00925139, 0.009038203, 0.0183...   \n",
              "66669  [0.016096663, 0.0053351177, 0.0022101111, 0.00...   \n",
              "66670  [0.021545028, -0.0041762237, 0.006491525, 0.01...   \n",
              "...                                                  ...   \n",
              "99994  [0.018989757, -0.007048966, 0.007297742, 0.021...   \n",
              "99995  [0.025170753, 0.0036424529, 0.009423363, 0.014...   \n",
              "99996  [0.024758467, -0.0070452387, 0.0049887756, 0.0...   \n",
              "99997  [0.021720944, 0.001004434, 0.012444445, 0.0084...   \n",
              "99998  [0.01876085, -0.008429829, 0.008921858, 0.0176...   \n",
              "\n",
              "                                          split_pre_text  \\\n",
              "66666  [لو, كانت, هذه, الروايه, تستحق, النجوم, الخمس,...   \n",
              "66667  [ضعيف, جدا, قريب, من, الحرم, , لكن, يوجد, طلعه...   \n",
              "66668  [سيئه, جدا, , وجود, بقاله, ومغسله, المكيفات, ل...   \n",
              "66669     [سعر, الاتفاق, تغير, عند, الوصول, الي, الفندق]   \n",
              "66670  [ضعيف, , طلبت, اغطيه, للاطفال, المرافقين, ولم,...   \n",
              "...                                                  ...   \n",
              "99994  [معرفش, ليه, كنت, عاوزه, اكملها, وهي, مش, عاجب...   \n",
              "99995  [لا, يستحق, ان, يكون, في, بوكنق, لانه, سيئ, , ...   \n",
              "99996  [كتاب, ضعيف, جدا, ولم, استمتع, به, في, كل, قصه...   \n",
              "99997  [ممله, جدا, محمد, حسن, علوان, فنان, بالكلمات, ...   \n",
              "99998  [لن, ارجع, اليه, مره, اخري, , قربه, من, البحر,...   \n",
              "\n",
              "                                  splited_token_pre_text  \\\n",
              "66666  [[-0.72904074, -1.1220832, 1.8184453, 0.011671...   \n",
              "66667  [[-0.7428582, 0.053347655, 0.4911929, -1.51960...   \n",
              "66668  [[-0.68311656, -2.3149805, -1.573462, 1.020189...   \n",
              "66669  [[-0.9387431, -0.43111485, -1.0966043, 1.11122...   \n",
              "66670  [[-0.7428582, 0.053347655, 0.4911929, -1.51960...   \n",
              "...                                                  ...   \n",
              "99994  [[0.46958137, -0.09090871, 0.101288386, 0.3697...   \n",
              "99995  [[0.97438407, 0.07180677, 1.5584363, -0.998088...   \n",
              "99996  [[0.90336937, 0.23783109, -0.31436574, 0.04670...   \n",
              "99997  [[0.5722433, -1.1473417, -1.2302717, 1.5163916...   \n",
              "99998  [[2.5062027, -0.27708146, 2.7949169, -3.768561...   \n",
              "\n",
              "                                         token_pre_text1  \n",
              "66666  [-0.0016305662, -0.0024810128, 0.0088382615, -...  \n",
              "66667  [0.008628941, -0.00887549, 0.040521134, 0.0180...  \n",
              "66668  [0.0057729534, -0.0090713035, 0.0052616703, 0....  \n",
              "66669  [0.0073624416, -0.01134607, 0.003095085, 0.003...  \n",
              "66670  [-0.0073554255, -0.0030445007, 0.017692193, 0....  \n",
              "...                                                  ...  \n",
              "99994  [-0.016999213, -0.015897302, 0.005427033, 0.02...  \n",
              "99995  [0.010814069, -0.02556738, 0.027561078, -0.012...  \n",
              "99996  [0.002019888, -0.0040657283, 0.030491699, 0.01...  \n",
              "99997  [0.021135787, -0.015320432, 0.025751645, -0.00...  \n",
              "99998  [0.009734509, -0.024403136, 0.026957987, 0.024...  \n",
              "\n",
              "[33332 rows x 9 columns]"
            ],
            "text/html": [
              "\n",
              "  <div id=\"df-ab6cbc36-df01-4c54-86f9-c6998d961720\" class=\"colab-df-container\">\n",
              "    <div>\n",
              "<style scoped>\n",
              "    .dataframe tbody tr th:only-of-type {\n",
              "        vertical-align: middle;\n",
              "    }\n",
              "\n",
              "    .dataframe tbody tr th {\n",
              "        vertical-align: top;\n",
              "    }\n",
              "\n",
              "    .dataframe thead th {\n",
              "        text-align: right;\n",
              "    }\n",
              "</style>\n",
              "<table border=\"1\" class=\"dataframe\">\n",
              "  <thead>\n",
              "    <tr style=\"text-align: right;\">\n",
              "      <th></th>\n",
              "      <th>label</th>\n",
              "      <th>text</th>\n",
              "      <th>sentiment_id</th>\n",
              "      <th>pre_text</th>\n",
              "      <th>len</th>\n",
              "      <th>token_pre_text</th>\n",
              "      <th>split_pre_text</th>\n",
              "      <th>splited_token_pre_text</th>\n",
              "      <th>token_pre_text1</th>\n",
              "    </tr>\n",
              "  </thead>\n",
              "  <tbody>\n",
              "    <tr>\n",
              "      <th>66666</th>\n",
              "      <td>Negative</td>\n",
              "      <td>لو كانت هذه الرواية تستحق النجوم الخمس؛ لانتقص...</td>\n",
              "      <td>0</td>\n",
              "      <td>لو كانت هذه الروايه تستحق النجوم الخمس لانتقص ...</td>\n",
              "      <td>435</td>\n",
              "      <td>[0.019033818, -0.003167387, 0.0077725374, 0.01...</td>\n",
              "      <td>[لو, كانت, هذه, الروايه, تستحق, النجوم, الخمس,...</td>\n",
              "      <td>[[-0.72904074, -1.1220832, 1.8184453, 0.011671...</td>\n",
              "      <td>[-0.0016305662, -0.0024810128, 0.0088382615, -...</td>\n",
              "    </tr>\n",
              "    <tr>\n",
              "      <th>66667</th>\n",
              "      <td>Negative</td>\n",
              "      <td>ضعيف جدا. قريب من الحرم ........ لكن يوجد طلعة...</td>\n",
              "      <td>0</td>\n",
              "      <td>ضعيف جدا قريب من الحرم  لكن يوجد طلعه الفندق ص...</td>\n",
              "      <td>67</td>\n",
              "      <td>[0.025115509, -2.0212723e-05, 0.0068238676, 0....</td>\n",
              "      <td>[ضعيف, جدا, قريب, من, الحرم, , لكن, يوجد, طلعه...</td>\n",
              "      <td>[[-0.7428582, 0.053347655, 0.4911929, -1.51960...</td>\n",
              "      <td>[0.008628941, -0.00887549, 0.040521134, 0.0180...</td>\n",
              "    </tr>\n",
              "    <tr>\n",
              "      <th>66668</th>\n",
              "      <td>Negative</td>\n",
              "      <td>سيئه جدا . وجود بقاله ومغسله. المكيفات لاتعمل ...</td>\n",
              "      <td>0</td>\n",
              "      <td>سيئه جدا  وجود بقاله ومغسله المكيفات لاتعمل با...</td>\n",
              "      <td>125</td>\n",
              "      <td>[0.026582032, -0.00925139, 0.009038203, 0.0183...</td>\n",
              "      <td>[سيئه, جدا, , وجود, بقاله, ومغسله, المكيفات, ل...</td>\n",
              "      <td>[[-0.68311656, -2.3149805, -1.573462, 1.020189...</td>\n",
              "      <td>[0.0057729534, -0.0090713035, 0.0052616703, 0....</td>\n",
              "    </tr>\n",
              "    <tr>\n",
              "      <th>66669</th>\n",
              "      <td>Negative</td>\n",
              "      <td>سعر الاتفاق تغير عند الوصول الى الفندق . .</td>\n",
              "      <td>0</td>\n",
              "      <td>سعر الاتفاق تغير عند الوصول الي الفندق</td>\n",
              "      <td>38</td>\n",
              "      <td>[0.016096663, 0.0053351177, 0.0022101111, 0.00...</td>\n",
              "      <td>[سعر, الاتفاق, تغير, عند, الوصول, الي, الفندق]</td>\n",
              "      <td>[[-0.9387431, -0.43111485, -1.0966043, 1.11122...</td>\n",
              "      <td>[0.0073624416, -0.01134607, 0.003095085, 0.003...</td>\n",
              "    </tr>\n",
              "    <tr>\n",
              "      <th>66670</th>\n",
              "      <td>Negative</td>\n",
              "      <td>ضعيف. . طلبت اغطيه للاطفال المرافقين ولم يتجاو...</td>\n",
              "      <td>0</td>\n",
              "      <td>ضعيف  طلبت اغطيه للاطفال المرافقين ولم يتجاوبو...</td>\n",
              "      <td>178</td>\n",
              "      <td>[0.021545028, -0.0041762237, 0.006491525, 0.01...</td>\n",
              "      <td>[ضعيف, , طلبت, اغطيه, للاطفال, المرافقين, ولم,...</td>\n",
              "      <td>[[-0.7428582, 0.053347655, 0.4911929, -1.51960...</td>\n",
              "      <td>[-0.0073554255, -0.0030445007, 0.017692193, 0....</td>\n",
              "    </tr>\n",
              "    <tr>\n",
              "      <th>...</th>\n",
              "      <td>...</td>\n",
              "      <td>...</td>\n",
              "      <td>...</td>\n",
              "      <td>...</td>\n",
              "      <td>...</td>\n",
              "      <td>...</td>\n",
              "      <td>...</td>\n",
              "      <td>...</td>\n",
              "      <td>...</td>\n",
              "    </tr>\n",
              "    <tr>\n",
              "      <th>99994</th>\n",
              "      <td>Negative</td>\n",
              "      <td>معرفش ليه كنت عاوزة أكملها وهي مش عاجباني من ا...</td>\n",
              "      <td>0</td>\n",
              "      <td>معرفش ليه كنت عاوزه اكملها وهي مش عاجباني من ا...</td>\n",
              "      <td>165</td>\n",
              "      <td>[0.018989757, -0.007048966, 0.007297742, 0.021...</td>\n",
              "      <td>[معرفش, ليه, كنت, عاوزه, اكملها, وهي, مش, عاجب...</td>\n",
              "      <td>[[0.46958137, -0.09090871, 0.101288386, 0.3697...</td>\n",
              "      <td>[-0.016999213, -0.015897302, 0.005427033, 0.02...</td>\n",
              "    </tr>\n",
              "    <tr>\n",
              "      <th>99995</th>\n",
              "      <td>Negative</td>\n",
              "      <td>لا يستحق ان يكون في بوكنق لانه سيئ . لا شي. لا...</td>\n",
              "      <td>0</td>\n",
              "      <td>لا يستحق ان يكون في بوكنق لانه سيئ  لا شي لا ي...</td>\n",
              "      <td>88</td>\n",
              "      <td>[0.025170753, 0.0036424529, 0.009423363, 0.014...</td>\n",
              "      <td>[لا, يستحق, ان, يكون, في, بوكنق, لانه, سيئ, , ...</td>\n",
              "      <td>[[0.97438407, 0.07180677, 1.5584363, -0.998088...</td>\n",
              "      <td>[0.010814069, -0.02556738, 0.027561078, -0.012...</td>\n",
              "    </tr>\n",
              "    <tr>\n",
              "      <th>99996</th>\n",
              "      <td>Negative</td>\n",
              "      <td>كتاب ضعيف جدا ولم استمتع به. فى كل قصه سرد لحا...</td>\n",
              "      <td>0</td>\n",
              "      <td>كتاب ضعيف جدا ولم استمتع به في كل قصه سرد لحال...</td>\n",
              "      <td>71</td>\n",
              "      <td>[0.024758467, -0.0070452387, 0.0049887756, 0.0...</td>\n",
              "      <td>[كتاب, ضعيف, جدا, ولم, استمتع, به, في, كل, قصه...</td>\n",
              "      <td>[[0.90336937, 0.23783109, -0.31436574, 0.04670...</td>\n",
              "      <td>[0.002019888, -0.0040657283, 0.030491699, 0.01...</td>\n",
              "    </tr>\n",
              "    <tr>\n",
              "      <th>99997</th>\n",
              "      <td>Negative</td>\n",
              "      <td>مملة جدا. محمد حسن علوان فنان بالكلمات، والوصف...</td>\n",
              "      <td>0</td>\n",
              "      <td>ممله جدا محمد حسن علوان فنان بالكلمات والوصف ع...</td>\n",
              "      <td>151</td>\n",
              "      <td>[0.021720944, 0.001004434, 0.012444445, 0.0084...</td>\n",
              "      <td>[ممله, جدا, محمد, حسن, علوان, فنان, بالكلمات, ...</td>\n",
              "      <td>[[0.5722433, -1.1473417, -1.2302717, 1.5163916...</td>\n",
              "      <td>[0.021135787, -0.015320432, 0.025751645, -0.00...</td>\n",
              "    </tr>\n",
              "    <tr>\n",
              "      <th>99998</th>\n",
              "      <td>Negative</td>\n",
              "      <td>لن ارجع إليه مرة اخرى . قربه من البحر. المكان ...</td>\n",
              "      <td>0</td>\n",
              "      <td>لن ارجع اليه مره اخري  قربه من البحر المكان قد...</td>\n",
              "      <td>77</td>\n",
              "      <td>[0.01876085, -0.008429829, 0.008921858, 0.0176...</td>\n",
              "      <td>[لن, ارجع, اليه, مره, اخري, , قربه, من, البحر,...</td>\n",
              "      <td>[[2.5062027, -0.27708146, 2.7949169, -3.768561...</td>\n",
              "      <td>[0.009734509, -0.024403136, 0.026957987, 0.024...</td>\n",
              "    </tr>\n",
              "  </tbody>\n",
              "</table>\n",
              "<p>33332 rows × 9 columns</p>\n",
              "</div>\n",
              "    <div class=\"colab-df-buttons\">\n",
              "\n",
              "  <div class=\"colab-df-container\">\n",
              "    <button class=\"colab-df-convert\" onclick=\"convertToInteractive('df-ab6cbc36-df01-4c54-86f9-c6998d961720')\"\n",
              "            title=\"Convert this dataframe to an interactive table.\"\n",
              "            style=\"display:none;\">\n",
              "\n",
              "  <svg xmlns=\"http://www.w3.org/2000/svg\" height=\"24px\" viewBox=\"0 -960 960 960\">\n",
              "    <path d=\"M120-120v-720h720v720H120Zm60-500h600v-160H180v160Zm220 220h160v-160H400v160Zm0 220h160v-160H400v160ZM180-400h160v-160H180v160Zm440 0h160v-160H620v160ZM180-180h160v-160H180v160Zm440 0h160v-160H620v160Z\"/>\n",
              "  </svg>\n",
              "    </button>\n",
              "\n",
              "  <style>\n",
              "    .colab-df-container {\n",
              "      display:flex;\n",
              "      gap: 12px;\n",
              "    }\n",
              "\n",
              "    .colab-df-convert {\n",
              "      background-color: #E8F0FE;\n",
              "      border: none;\n",
              "      border-radius: 50%;\n",
              "      cursor: pointer;\n",
              "      display: none;\n",
              "      fill: #1967D2;\n",
              "      height: 32px;\n",
              "      padding: 0 0 0 0;\n",
              "      width: 32px;\n",
              "    }\n",
              "\n",
              "    .colab-df-convert:hover {\n",
              "      background-color: #E2EBFA;\n",
              "      box-shadow: 0px 1px 2px rgba(60, 64, 67, 0.3), 0px 1px 3px 1px rgba(60, 64, 67, 0.15);\n",
              "      fill: #174EA6;\n",
              "    }\n",
              "\n",
              "    .colab-df-buttons div {\n",
              "      margin-bottom: 4px;\n",
              "    }\n",
              "\n",
              "    [theme=dark] .colab-df-convert {\n",
              "      background-color: #3B4455;\n",
              "      fill: #D2E3FC;\n",
              "    }\n",
              "\n",
              "    [theme=dark] .colab-df-convert:hover {\n",
              "      background-color: #434B5C;\n",
              "      box-shadow: 0px 1px 3px 1px rgba(0, 0, 0, 0.15);\n",
              "      filter: drop-shadow(0px 1px 2px rgba(0, 0, 0, 0.3));\n",
              "      fill: #FFFFFF;\n",
              "    }\n",
              "  </style>\n",
              "\n",
              "    <script>\n",
              "      const buttonEl =\n",
              "        document.querySelector('#df-ab6cbc36-df01-4c54-86f9-c6998d961720 button.colab-df-convert');\n",
              "      buttonEl.style.display =\n",
              "        google.colab.kernel.accessAllowed ? 'block' : 'none';\n",
              "\n",
              "      async function convertToInteractive(key) {\n",
              "        const element = document.querySelector('#df-ab6cbc36-df01-4c54-86f9-c6998d961720');\n",
              "        const dataTable =\n",
              "          await google.colab.kernel.invokeFunction('convertToInteractive',\n",
              "                                                    [key], {});\n",
              "        if (!dataTable) return;\n",
              "\n",
              "        const docLinkHtml = 'Like what you see? Visit the ' +\n",
              "          '<a target=\"_blank\" href=https://colab.research.google.com/notebooks/data_table.ipynb>data table notebook</a>'\n",
              "          + ' to learn more about interactive tables.';\n",
              "        element.innerHTML = '';\n",
              "        dataTable['output_type'] = 'display_data';\n",
              "        await google.colab.output.renderOutput(dataTable, element);\n",
              "        const docLink = document.createElement('div');\n",
              "        docLink.innerHTML = docLinkHtml;\n",
              "        element.appendChild(docLink);\n",
              "      }\n",
              "    </script>\n",
              "  </div>\n",
              "\n",
              "\n",
              "<div id=\"df-8e42de51-1310-4bda-81c7-2ad11ddedc7e\">\n",
              "  <button class=\"colab-df-quickchart\" onclick=\"quickchart('df-8e42de51-1310-4bda-81c7-2ad11ddedc7e')\"\n",
              "            title=\"Suggest charts\"\n",
              "            style=\"display:none;\">\n",
              "\n",
              "<svg xmlns=\"http://www.w3.org/2000/svg\" height=\"24px\"viewBox=\"0 0 24 24\"\n",
              "     width=\"24px\">\n",
              "    <g>\n",
              "        <path d=\"M19 3H5c-1.1 0-2 .9-2 2v14c0 1.1.9 2 2 2h14c1.1 0 2-.9 2-2V5c0-1.1-.9-2-2-2zM9 17H7v-7h2v7zm4 0h-2V7h2v10zm4 0h-2v-4h2v4z\"/>\n",
              "    </g>\n",
              "</svg>\n",
              "  </button>\n",
              "\n",
              "<style>\n",
              "  .colab-df-quickchart {\n",
              "      --bg-color: #E8F0FE;\n",
              "      --fill-color: #1967D2;\n",
              "      --hover-bg-color: #E2EBFA;\n",
              "      --hover-fill-color: #174EA6;\n",
              "      --disabled-fill-color: #AAA;\n",
              "      --disabled-bg-color: #DDD;\n",
              "  }\n",
              "\n",
              "  [theme=dark] .colab-df-quickchart {\n",
              "      --bg-color: #3B4455;\n",
              "      --fill-color: #D2E3FC;\n",
              "      --hover-bg-color: #434B5C;\n",
              "      --hover-fill-color: #FFFFFF;\n",
              "      --disabled-bg-color: #3B4455;\n",
              "      --disabled-fill-color: #666;\n",
              "  }\n",
              "\n",
              "  .colab-df-quickchart {\n",
              "    background-color: var(--bg-color);\n",
              "    border: none;\n",
              "    border-radius: 50%;\n",
              "    cursor: pointer;\n",
              "    display: none;\n",
              "    fill: var(--fill-color);\n",
              "    height: 32px;\n",
              "    padding: 0;\n",
              "    width: 32px;\n",
              "  }\n",
              "\n",
              "  .colab-df-quickchart:hover {\n",
              "    background-color: var(--hover-bg-color);\n",
              "    box-shadow: 0 1px 2px rgba(60, 64, 67, 0.3), 0 1px 3px 1px rgba(60, 64, 67, 0.15);\n",
              "    fill: var(--button-hover-fill-color);\n",
              "  }\n",
              "\n",
              "  .colab-df-quickchart-complete:disabled,\n",
              "  .colab-df-quickchart-complete:disabled:hover {\n",
              "    background-color: var(--disabled-bg-color);\n",
              "    fill: var(--disabled-fill-color);\n",
              "    box-shadow: none;\n",
              "  }\n",
              "\n",
              "  .colab-df-spinner {\n",
              "    border: 2px solid var(--fill-color);\n",
              "    border-color: transparent;\n",
              "    border-bottom-color: var(--fill-color);\n",
              "    animation:\n",
              "      spin 1s steps(1) infinite;\n",
              "  }\n",
              "\n",
              "  @keyframes spin {\n",
              "    0% {\n",
              "      border-color: transparent;\n",
              "      border-bottom-color: var(--fill-color);\n",
              "      border-left-color: var(--fill-color);\n",
              "    }\n",
              "    20% {\n",
              "      border-color: transparent;\n",
              "      border-left-color: var(--fill-color);\n",
              "      border-top-color: var(--fill-color);\n",
              "    }\n",
              "    30% {\n",
              "      border-color: transparent;\n",
              "      border-left-color: var(--fill-color);\n",
              "      border-top-color: var(--fill-color);\n",
              "      border-right-color: var(--fill-color);\n",
              "    }\n",
              "    40% {\n",
              "      border-color: transparent;\n",
              "      border-right-color: var(--fill-color);\n",
              "      border-top-color: var(--fill-color);\n",
              "    }\n",
              "    60% {\n",
              "      border-color: transparent;\n",
              "      border-right-color: var(--fill-color);\n",
              "    }\n",
              "    80% {\n",
              "      border-color: transparent;\n",
              "      border-right-color: var(--fill-color);\n",
              "      border-bottom-color: var(--fill-color);\n",
              "    }\n",
              "    90% {\n",
              "      border-color: transparent;\n",
              "      border-bottom-color: var(--fill-color);\n",
              "    }\n",
              "  }\n",
              "</style>\n",
              "\n",
              "  <script>\n",
              "    async function quickchart(key) {\n",
              "      const quickchartButtonEl =\n",
              "        document.querySelector('#' + key + ' button');\n",
              "      quickchartButtonEl.disabled = true;  // To prevent multiple clicks.\n",
              "      quickchartButtonEl.classList.add('colab-df-spinner');\n",
              "      try {\n",
              "        const charts = await google.colab.kernel.invokeFunction(\n",
              "            'suggestCharts', [key], {});\n",
              "      } catch (error) {\n",
              "        console.error('Error during call to suggestCharts:', error);\n",
              "      }\n",
              "      quickchartButtonEl.classList.remove('colab-df-spinner');\n",
              "      quickchartButtonEl.classList.add('colab-df-quickchart-complete');\n",
              "    }\n",
              "    (() => {\n",
              "      let quickchartButtonEl =\n",
              "        document.querySelector('#df-8e42de51-1310-4bda-81c7-2ad11ddedc7e button');\n",
              "      quickchartButtonEl.style.display =\n",
              "        google.colab.kernel.accessAllowed ? 'block' : 'none';\n",
              "    })();\n",
              "  </script>\n",
              "</div>\n",
              "\n",
              "  <div id=\"id_858e0e37-7bd5-466b-9df1-3b55a5c51939\">\n",
              "    <style>\n",
              "      .colab-df-generate {\n",
              "        background-color: #E8F0FE;\n",
              "        border: none;\n",
              "        border-radius: 50%;\n",
              "        cursor: pointer;\n",
              "        display: none;\n",
              "        fill: #1967D2;\n",
              "        height: 32px;\n",
              "        padding: 0 0 0 0;\n",
              "        width: 32px;\n",
              "      }\n",
              "\n",
              "      .colab-df-generate:hover {\n",
              "        background-color: #E2EBFA;\n",
              "        box-shadow: 0px 1px 2px rgba(60, 64, 67, 0.3), 0px 1px 3px 1px rgba(60, 64, 67, 0.15);\n",
              "        fill: #174EA6;\n",
              "      }\n",
              "\n",
              "      [theme=dark] .colab-df-generate {\n",
              "        background-color: #3B4455;\n",
              "        fill: #D2E3FC;\n",
              "      }\n",
              "\n",
              "      [theme=dark] .colab-df-generate:hover {\n",
              "        background-color: #434B5C;\n",
              "        box-shadow: 0px 1px 3px 1px rgba(0, 0, 0, 0.15);\n",
              "        filter: drop-shadow(0px 1px 2px rgba(0, 0, 0, 0.3));\n",
              "        fill: #FFFFFF;\n",
              "      }\n",
              "    </style>\n",
              "    <button class=\"colab-df-generate\" onclick=\"generateWithVariable('df2')\"\n",
              "            title=\"Generate code using this dataframe.\"\n",
              "            style=\"display:none;\">\n",
              "\n",
              "  <svg xmlns=\"http://www.w3.org/2000/svg\" height=\"24px\"viewBox=\"0 0 24 24\"\n",
              "       width=\"24px\">\n",
              "    <path d=\"M7,19H8.4L18.45,9,17,7.55,7,17.6ZM5,21V16.75L18.45,3.32a2,2,0,0,1,2.83,0l1.4,1.43a1.91,1.91,0,0,1,.58,1.4,1.91,1.91,0,0,1-.58,1.4L9.25,21ZM18.45,9,17,7.55Zm-12,3A5.31,5.31,0,0,0,4.9,8.1,5.31,5.31,0,0,0,1,6.5,5.31,5.31,0,0,0,4.9,4.9,5.31,5.31,0,0,0,6.5,1,5.31,5.31,0,0,0,8.1,4.9,5.31,5.31,0,0,0,12,6.5,5.46,5.46,0,0,0,6.5,12Z\"/>\n",
              "  </svg>\n",
              "    </button>\n",
              "    <script>\n",
              "      (() => {\n",
              "      const buttonEl =\n",
              "        document.querySelector('#id_858e0e37-7bd5-466b-9df1-3b55a5c51939 button.colab-df-generate');\n",
              "      buttonEl.style.display =\n",
              "        google.colab.kernel.accessAllowed ? 'block' : 'none';\n",
              "\n",
              "      buttonEl.onclick = () => {\n",
              "        google.colab.notebook.generateWithVariable('df2');\n",
              "      }\n",
              "      })();\n",
              "    </script>\n",
              "  </div>\n",
              "\n",
              "    </div>\n",
              "  </div>\n"
            ],
            "application/vnd.google.colaboratory.intrinsic+json": {
              "type": "dataframe",
              "variable_name": "df2",
              "summary": "{\n  \"name\": \"df2\",\n  \"rows\": 33332,\n  \"fields\": [\n    {\n      \"column\": \"label\",\n      \"properties\": {\n        \"dtype\": \"category\",\n        \"num_unique_values\": 1,\n        \"samples\": [\n          \"Negative\"\n        ],\n        \"semantic_type\": \"\",\n        \"description\": \"\"\n      }\n    },\n    {\n      \"column\": \"text\",\n      \"properties\": {\n        \"dtype\": \"string\",\n        \"num_unique_values\": 33332,\n        \"samples\": [\n          \"\\u062c\\u0645\\u0627\\u0644\\u064a\\u0629 \\u0627\\u0644\\u0645\\u0648\\u0642\\u0639 \\u0648\\u0627\\u0644\\u0645\\u0628\\u0646\\u0649 \\u0623\\u0639\\u062f\\u0645\\u0647\\u0627 \\u0633\\u0648\\u0621 \\u0627\\u0644\\u062a\\u0634\\u063a\\u064a\\u0644 \\u0648\\u0633\\u0648\\u0621 \\u0627\\u0644\\u062e\\u062f\\u0645\\u0629 . \\u0642\\u0631\\u0628 \\u0645\\u0648\\u0642\\u0639 \\u0627\\u0644\\u0641\\u0646\\u062f\\u0642 \\u0645\\u0646 \\u0645\\u0646\\u0637\\u0642\\u0629 \\u0627\\u0644\\u0639\\u0632\\u064a\\u0632\\u064a\\u0629 \\u0627\\u0644\\u062a\\u062c\\u0627\\u0631\\u064a\\u0629. \\u0637\\u0627\\u0642\\u0645 \\u0627\\u0644\\u0641\\u0646\\u062f\\u0642 \\u0644\\u0627 \\u064a\\u062a\\u0639\\u0627\\u0645\\u0644 \\u0628\\u0627\\u062d\\u062a\\u0631\\u0627\\u0641\\u064a\\u0629\\u060c\\u062e\\u062f\\u0645\\u0629 \\u0627\\u0644\\u063a\\u0631\\u0641 \\u0648\\u0627\\u0644\\u0627\\u0633\\u062a\\u0642\\u0628\\u0627\\u0644 \\u0633\\u064a\\u0626\\u0629 \\u062c\\u062f\\u0627\\u060c\\u0639\\u062f\\u0645 \\u0627\\u0644\\u0625\\u062c\\u0627\\u0628\\u0629 \\u0639\\u0644\\u0649 \\u0627\\u0644\\u0647\\u0627\\u062a\\u0641 \\u0645\\u0646 \\u062a\\u0644\\u0641\\u0648\\u0646 \\u0627\\u0644\\u063a\\u0631\\u0641\\u0629 \\u0627\\u0648 \\u0645\\u0646 \\u0627\\u0644\\u062c\\u0648\\u0627\\u0644\\u060c\\u0639\\u062f\\u0645 \\u062a\\u0646\\u0638\\u064a\\u0641 \\u0627\\u0644\\u0641\\u0646\\u062f\\u0642 \\u0628\\u0639\\u062f \\u0645\\u063a\\u0627\\u062f\\u0631\\u0629 \\u0627\\u0644\\u0632\\u0648\\u0627\\u0631 \\u0628\\u0634\\u0643\\u0644 \\u0645\\u0628\\u0627\\u0634\\u0631\\u0645\\u0645\\u0631\\u0627\\u062a \\u0627\\u0644\\u0645\\u0624\\u062f\\u064a\\u0629 \\u0627\\u0644\\u0649 \\u0627\\u0644\\u063a\\u0631\\u0641 \\u063a\\u064a\\u0631 \\u0646\\u0638\\u064a\\u0641\\u0629\"\n        ],\n        \"semantic_type\": \"\",\n        \"description\": \"\"\n      }\n    },\n    {\n      \"column\": \"sentiment_id\",\n      \"properties\": {\n        \"dtype\": \"number\",\n        \"std\": 0,\n        \"min\": 0,\n        \"max\": 0,\n        \"num_unique_values\": 1,\n        \"samples\": [\n          0\n        ],\n        \"semantic_type\": \"\",\n        \"description\": \"\"\n      }\n    },\n    {\n      \"column\": \"pre_text\",\n      \"properties\": {\n        \"dtype\": \"string\",\n        \"num_unique_values\": 33294,\n        \"samples\": [\n          \"\\u0633\\u0631\\u062f \\u062a\\u0627\\u0631\\u064a\\u062e\\u064a \\u0644\\u062b\\u0645\\u0627\\u0646\\u064a\\u0647 \\u0639\\u0634\\u0631 \\u064a\\u0648\\u0645\\u0627 \\u0639\\u0634\\u062a \\u0628\\u0639\\u0636\\u0647\\u0627 \\u0641\\u064a \\u0645\\u064a\\u062f\\u0627\\u0646 \\u0627\\u0644\\u062a\\u062d\\u0631\\u064a\\u0631  \\u062d\\u064a\\u0627\\u062f\\u064a \\u0648\\u0627\\u0628\\u062a\\u0639\\u062f \\u0639\\u0646 \\u062a\\u062d\\u0644\\u064a\\u0644 \\u0627\\u0644\\u0627\\u062d\\u062f\\u0627\\u062b \\u0627\\u0644\\u0627 \\u0646\\u0627\\u062f\\u0631\\u0627\"\n        ],\n        \"semantic_type\": \"\",\n        \"description\": \"\"\n      }\n    },\n    {\n      \"column\": \"len\",\n      \"properties\": {\n        \"dtype\": \"number\",\n        \"std\": 485,\n        \"min\": 2,\n        \"max\": 7969,\n        \"num_unique_values\": 1993,\n        \"samples\": [\n          860\n        ],\n        \"semantic_type\": \"\",\n        \"description\": \"\"\n      }\n    },\n    {\n      \"column\": \"token_pre_text\",\n      \"properties\": {\n        \"dtype\": \"object\",\n        \"semantic_type\": \"\",\n        \"description\": \"\"\n      }\n    },\n    {\n      \"column\": \"split_pre_text\",\n      \"properties\": {\n        \"dtype\": \"object\",\n        \"semantic_type\": \"\",\n        \"description\": \"\"\n      }\n    },\n    {\n      \"column\": \"splited_token_pre_text\",\n      \"properties\": {\n        \"dtype\": \"object\",\n        \"semantic_type\": \"\",\n        \"description\": \"\"\n      }\n    },\n    {\n      \"column\": \"token_pre_text1\",\n      \"properties\": {\n        \"dtype\": \"object\",\n        \"semantic_type\": \"\",\n        \"description\": \"\"\n      }\n    }\n  ]\n}"
            }
          },
          "metadata": {},
          "execution_count": 147
        }
      ]
    },
    {
      "cell_type": "code",
      "source": [
        "def check_zero_array(x):\n",
        "\n",
        "  try:\n",
        "\n",
        "    return np.array_equal(x, np.zeros(x.shape))\n",
        "  except AttributeError:\n",
        "\n",
        "    return False\n"
      ],
      "metadata": {
        "id": "8OnoH_M_qoxr"
      },
      "execution_count": null,
      "outputs": []
    },
    {
      "cell_type": "code",
      "source": [
        "df3 = df.loc[df['token_pre_text'].apply(check_zero_array)]\n",
        "df3"
      ],
      "metadata": {
        "colab": {
          "base_uri": "https://localhost:8080/",
          "height": 89
        },
        "id": "dAU_0oo_B11I",
        "outputId": "29be46b5-4dbf-49ff-bc2e-88d98f2a32d4"
      },
      "execution_count": null,
      "outputs": [
        {
          "output_type": "execute_result",
          "data": {
            "text/plain": [
              "Empty DataFrame\n",
              "Columns: [label, text, sentiment_id, pre_text, len, token_pre_text, split_pre_text, splited_token_pre_text, token_pre_text1]\n",
              "Index: []"
            ],
            "text/html": [
              "\n",
              "  <div id=\"df-150e9e96-fca6-42ab-8d07-9473f0e8868f\" class=\"colab-df-container\">\n",
              "    <div>\n",
              "<style scoped>\n",
              "    .dataframe tbody tr th:only-of-type {\n",
              "        vertical-align: middle;\n",
              "    }\n",
              "\n",
              "    .dataframe tbody tr th {\n",
              "        vertical-align: top;\n",
              "    }\n",
              "\n",
              "    .dataframe thead th {\n",
              "        text-align: right;\n",
              "    }\n",
              "</style>\n",
              "<table border=\"1\" class=\"dataframe\">\n",
              "  <thead>\n",
              "    <tr style=\"text-align: right;\">\n",
              "      <th></th>\n",
              "      <th>label</th>\n",
              "      <th>text</th>\n",
              "      <th>sentiment_id</th>\n",
              "      <th>pre_text</th>\n",
              "      <th>len</th>\n",
              "      <th>token_pre_text</th>\n",
              "      <th>split_pre_text</th>\n",
              "      <th>splited_token_pre_text</th>\n",
              "      <th>token_pre_text1</th>\n",
              "    </tr>\n",
              "  </thead>\n",
              "  <tbody>\n",
              "  </tbody>\n",
              "</table>\n",
              "</div>\n",
              "    <div class=\"colab-df-buttons\">\n",
              "\n",
              "  <div class=\"colab-df-container\">\n",
              "    <button class=\"colab-df-convert\" onclick=\"convertToInteractive('df-150e9e96-fca6-42ab-8d07-9473f0e8868f')\"\n",
              "            title=\"Convert this dataframe to an interactive table.\"\n",
              "            style=\"display:none;\">\n",
              "\n",
              "  <svg xmlns=\"http://www.w3.org/2000/svg\" height=\"24px\" viewBox=\"0 -960 960 960\">\n",
              "    <path d=\"M120-120v-720h720v720H120Zm60-500h600v-160H180v160Zm220 220h160v-160H400v160Zm0 220h160v-160H400v160ZM180-400h160v-160H180v160Zm440 0h160v-160H620v160ZM180-180h160v-160H180v160Zm440 0h160v-160H620v160Z\"/>\n",
              "  </svg>\n",
              "    </button>\n",
              "\n",
              "  <style>\n",
              "    .colab-df-container {\n",
              "      display:flex;\n",
              "      gap: 12px;\n",
              "    }\n",
              "\n",
              "    .colab-df-convert {\n",
              "      background-color: #E8F0FE;\n",
              "      border: none;\n",
              "      border-radius: 50%;\n",
              "      cursor: pointer;\n",
              "      display: none;\n",
              "      fill: #1967D2;\n",
              "      height: 32px;\n",
              "      padding: 0 0 0 0;\n",
              "      width: 32px;\n",
              "    }\n",
              "\n",
              "    .colab-df-convert:hover {\n",
              "      background-color: #E2EBFA;\n",
              "      box-shadow: 0px 1px 2px rgba(60, 64, 67, 0.3), 0px 1px 3px 1px rgba(60, 64, 67, 0.15);\n",
              "      fill: #174EA6;\n",
              "    }\n",
              "\n",
              "    .colab-df-buttons div {\n",
              "      margin-bottom: 4px;\n",
              "    }\n",
              "\n",
              "    [theme=dark] .colab-df-convert {\n",
              "      background-color: #3B4455;\n",
              "      fill: #D2E3FC;\n",
              "    }\n",
              "\n",
              "    [theme=dark] .colab-df-convert:hover {\n",
              "      background-color: #434B5C;\n",
              "      box-shadow: 0px 1px 3px 1px rgba(0, 0, 0, 0.15);\n",
              "      filter: drop-shadow(0px 1px 2px rgba(0, 0, 0, 0.3));\n",
              "      fill: #FFFFFF;\n",
              "    }\n",
              "  </style>\n",
              "\n",
              "    <script>\n",
              "      const buttonEl =\n",
              "        document.querySelector('#df-150e9e96-fca6-42ab-8d07-9473f0e8868f button.colab-df-convert');\n",
              "      buttonEl.style.display =\n",
              "        google.colab.kernel.accessAllowed ? 'block' : 'none';\n",
              "\n",
              "      async function convertToInteractive(key) {\n",
              "        const element = document.querySelector('#df-150e9e96-fca6-42ab-8d07-9473f0e8868f');\n",
              "        const dataTable =\n",
              "          await google.colab.kernel.invokeFunction('convertToInteractive',\n",
              "                                                    [key], {});\n",
              "        if (!dataTable) return;\n",
              "\n",
              "        const docLinkHtml = 'Like what you see? Visit the ' +\n",
              "          '<a target=\"_blank\" href=https://colab.research.google.com/notebooks/data_table.ipynb>data table notebook</a>'\n",
              "          + ' to learn more about interactive tables.';\n",
              "        element.innerHTML = '';\n",
              "        dataTable['output_type'] = 'display_data';\n",
              "        await google.colab.output.renderOutput(dataTable, element);\n",
              "        const docLink = document.createElement('div');\n",
              "        docLink.innerHTML = docLinkHtml;\n",
              "        element.appendChild(docLink);\n",
              "      }\n",
              "    </script>\n",
              "  </div>\n",
              "\n",
              "\n",
              "  <div id=\"id_c7884ee7-5185-425b-8ae1-f724c4b091d0\">\n",
              "    <style>\n",
              "      .colab-df-generate {\n",
              "        background-color: #E8F0FE;\n",
              "        border: none;\n",
              "        border-radius: 50%;\n",
              "        cursor: pointer;\n",
              "        display: none;\n",
              "        fill: #1967D2;\n",
              "        height: 32px;\n",
              "        padding: 0 0 0 0;\n",
              "        width: 32px;\n",
              "      }\n",
              "\n",
              "      .colab-df-generate:hover {\n",
              "        background-color: #E2EBFA;\n",
              "        box-shadow: 0px 1px 2px rgba(60, 64, 67, 0.3), 0px 1px 3px 1px rgba(60, 64, 67, 0.15);\n",
              "        fill: #174EA6;\n",
              "      }\n",
              "\n",
              "      [theme=dark] .colab-df-generate {\n",
              "        background-color: #3B4455;\n",
              "        fill: #D2E3FC;\n",
              "      }\n",
              "\n",
              "      [theme=dark] .colab-df-generate:hover {\n",
              "        background-color: #434B5C;\n",
              "        box-shadow: 0px 1px 3px 1px rgba(0, 0, 0, 0.15);\n",
              "        filter: drop-shadow(0px 1px 2px rgba(0, 0, 0, 0.3));\n",
              "        fill: #FFFFFF;\n",
              "      }\n",
              "    </style>\n",
              "    <button class=\"colab-df-generate\" onclick=\"generateWithVariable('df3')\"\n",
              "            title=\"Generate code using this dataframe.\"\n",
              "            style=\"display:none;\">\n",
              "\n",
              "  <svg xmlns=\"http://www.w3.org/2000/svg\" height=\"24px\"viewBox=\"0 0 24 24\"\n",
              "       width=\"24px\">\n",
              "    <path d=\"M7,19H8.4L18.45,9,17,7.55,7,17.6ZM5,21V16.75L18.45,3.32a2,2,0,0,1,2.83,0l1.4,1.43a1.91,1.91,0,0,1,.58,1.4,1.91,1.91,0,0,1-.58,1.4L9.25,21ZM18.45,9,17,7.55Zm-12,3A5.31,5.31,0,0,0,4.9,8.1,5.31,5.31,0,0,0,1,6.5,5.31,5.31,0,0,0,4.9,4.9,5.31,5.31,0,0,0,6.5,1,5.31,5.31,0,0,0,8.1,4.9,5.31,5.31,0,0,0,12,6.5,5.46,5.46,0,0,0,6.5,12Z\"/>\n",
              "  </svg>\n",
              "    </button>\n",
              "    <script>\n",
              "      (() => {\n",
              "      const buttonEl =\n",
              "        document.querySelector('#id_c7884ee7-5185-425b-8ae1-f724c4b091d0 button.colab-df-generate');\n",
              "      buttonEl.style.display =\n",
              "        google.colab.kernel.accessAllowed ? 'block' : 'none';\n",
              "\n",
              "      buttonEl.onclick = () => {\n",
              "        google.colab.notebook.generateWithVariable('df3');\n",
              "      }\n",
              "      })();\n",
              "    </script>\n",
              "  </div>\n",
              "\n",
              "    </div>\n",
              "  </div>\n"
            ],
            "application/vnd.google.colaboratory.intrinsic+json": {
              "type": "dataframe",
              "variable_name": "df3",
              "repr_error": "Out of range float values are not JSON compliant: nan"
            }
          },
          "metadata": {},
          "execution_count": 149
        }
      ]
    },
    {
      "cell_type": "code",
      "source": [
        "sentence = [\"فاكس\", \"نخرج\", \"التهارده\"]\n",
        "s = ' '.join(sentence)\n",
        "\n",
        "t=model.wv.get_mean_vector(sentence)\n",
        "t1=model.wv.get_mean_vector(s)\n",
        "#cosine_similarity(t, t1)\n",
        "print(t.shape)\n",
        "print(s)"
      ],
      "metadata": {
        "colab": {
          "base_uri": "https://localhost:8080/"
        },
        "id": "MP1iAy3H76kn",
        "outputId": "13509f0b-072f-4318-d95c-11796f67ab13"
      },
      "execution_count": null,
      "outputs": [
        {
          "output_type": "stream",
          "name": "stdout",
          "text": [
            "(300,)\n",
            "فاكس نخرج التهارده\n"
          ]
        }
      ]
    },
    {
      "cell_type": "code",
      "source": [
        "x = df['splited_token_pre_text'].iloc[1]\n",
        "y = df['split_pre_text'].iloc[1]\n",
        "x[1]\n",
        "z = model.wv[y[1]]\n"
      ],
      "metadata": {
        "id": "taZF29GtKY-X"
      },
      "execution_count": null,
      "outputs": []
    },
    {
      "cell_type": "code",
      "source": [
        "from sklearn.metrics.pairwise import cosine_similarity\n",
        "\n",
        "cosine_similarity([z], [x[1]])"
      ],
      "metadata": {
        "colab": {
          "base_uri": "https://localhost:8080/"
        },
        "id": "Li2MoWCYM717",
        "outputId": "91f9495e-e42c-4cf9-8666-89f18f19a99a"
      },
      "execution_count": null,
      "outputs": [
        {
          "output_type": "execute_result",
          "data": {
            "text/plain": [
              "array([[1.]], dtype=float32)"
            ]
          },
          "metadata": {},
          "execution_count": 150
        }
      ]
    },
    {
      "cell_type": "code",
      "source": [
        "#del df['len']\n",
        "#del df['splited_token_pre_text']\n"
      ],
      "metadata": {
        "collapsed": true,
        "id": "DAX_AqcaVoTF"
      },
      "execution_count": null,
      "outputs": []
    },
    {
      "cell_type": "code",
      "source": [
        "df['splited_token_pre_text'].shape"
      ],
      "metadata": {
        "colab": {
          "base_uri": "https://localhost:8080/"
        },
        "id": "3E0fqNEIVrkI",
        "outputId": "e79eaf1c-eec0-45bb-b702-3280097ef90b"
      },
      "execution_count": null,
      "outputs": [
        {
          "output_type": "execute_result",
          "data": {
            "text/plain": [
              "(99995,)"
            ]
          },
          "metadata": {},
          "execution_count": 152
        }
      ]
    },
    {
      "cell_type": "code",
      "source": [
        "from sklearn.model_selection import train_test_split\n",
        "X_train, X_test, y_train, y_test = train_test_split(df['token_pre_text1'].values, df['sentiment_id'], test_size=0.1, stratify=df['sentiment_id'], random_state=42)"
      ],
      "metadata": {
        "id": "T69amT5RAUZZ"
      },
      "execution_count": null,
      "outputs": []
    },
    {
      "cell_type": "code",
      "source": [
        "X_train.shape, X_test.shape, y_train.shape, y_test.shape"
      ],
      "metadata": {
        "colab": {
          "base_uri": "https://localhost:8080/"
        },
        "id": "cSoWVohvXnhm",
        "outputId": "181be7d1-0b9c-4783-acd7-9055164be22e"
      },
      "execution_count": null,
      "outputs": [
        {
          "output_type": "execute_result",
          "data": {
            "text/plain": [
              "((89995,), (10000,), (89995,), (10000,))"
            ]
          },
          "metadata": {},
          "execution_count": 154
        }
      ]
    },
    {
      "cell_type": "code",
      "source": [
        "import tensorflow as tf\n",
        "import keras\n",
        "import numpy as np # import numpy here\n",
        "from keras.models import Sequential\n",
        "from keras.layers import Dense, Activation, Dropout,BatchNormalization\n",
        "from tensorflow.keras.callbacks import EarlyStopping\n",
        "from sklearn.metrics import classification_report, confusion_matrix\n",
        "\n",
        "X_train = np.stack(X_train)  # Convert X_train to a NumPy array\n",
        "X_test = np.stack(X_test)   # Convert X_test to a NumPy array\n",
        "\n",
        "# Convert y_train and y_test to NumPy arrays\n",
        "y_train = np.array(y_train)\n",
        "y_test = np.array(y_test)\n",
        "\n",
        "dl_model = Sequential()\n",
        "\n",
        "dl_model.add(Dense(512, input_shape=(300,)))\n",
        "\n",
        "dl_model.add(BatchNormalization())\n",
        "\n",
        "\n",
        "dl_model.add(Activation('relu'))\n",
        "\n",
        "#dl_model.add(Dropout(0.5))\n",
        "dl_model.add(Dense(256))\n",
        "\n",
        "dl_model.add(BatchNormalization())\n",
        "\n",
        "\n",
        "dl_model.add(Activation('relu'))\n",
        "#dl_model.add(Dropout(0.5))\n",
        "\n",
        "dl_model.add(Dense(128))\n",
        "\n",
        "dl_model.add(BatchNormalization())\n",
        "\n",
        "\n",
        "dl_model.add(Activation('relu'))\n",
        "\n",
        "\n",
        "\n",
        "dl_model.add(Dropout(0.5))\n",
        "\n",
        "dl_model.add(Dense(128))\n",
        "\n",
        "dl_model.add(BatchNormalization())\n",
        "\n",
        "\n",
        "dl_model.add(Activation('relu'))\n",
        "dl_model.add(Dropout(0.5))\n",
        "\n",
        "dl_model.add(Dense(128))\n",
        "\n",
        "dl_model.add(BatchNormalization())\n",
        "\n",
        "\n",
        "dl_model.add(Activation('relu'))\n",
        "dl_model.add(Dropout(0.5))\n",
        "\n",
        "dl_model.add(Dense(64))\n",
        "\n",
        "dl_model.add(BatchNormalization())\n",
        "\n",
        "\n",
        "dl_model.add(Activation('relu'))\n",
        "#dl_model.add(Dropout(0.5))\n",
        "\n",
        "dl_model.add(Dense(32))\n",
        "dl_model.add(BatchNormalization())\n",
        "\n",
        "dl_model.add(Activation('relu'))\n",
        "#dl_model.add(Dropout(0.5))\n",
        "\n",
        "dl_model.add(Dense(16))\n",
        "dl_model.add(BatchNormalization())\n",
        "\n",
        "dl_model.add(Activation('relu'))\n",
        "#dl_model.add(Dropout(0.5))\n",
        "\n",
        "dl_model.add(Dense(8))\n",
        "dl_model.add(BatchNormalization())\n",
        "\n",
        "dl_model.add(Activation('relu'))\n",
        "#dl_model.add(Dropout(0.5))\n",
        "\n",
        "dl_model.add(Dense(3))\n",
        "dl_model.add(Activation('softmax'))\n",
        "\n",
        "dl_model.compile(loss='SparseCategoricalCrossentropy',\n",
        "              optimizer='adam', metrics=['accuracy'])\n",
        "\n",
        "\n",
        "dl_model.fit(X_train, y_train,batch_size=64,epochs=100, validation_data=(X_test, y_test) ,callbacks=[EarlyStopping(monitor='val_loss', mode='min', patience=5)])\n",
        "\n"
      ],
      "metadata": {
        "colab": {
          "base_uri": "https://localhost:8080/"
        },
        "id": "7_Br0x8ohZhA",
        "outputId": "40eb11fc-83fc-4e29-d40b-de12483ddb52"
      },
      "execution_count": null,
      "outputs": [
        {
          "output_type": "stream",
          "name": "stderr",
          "text": [
            "/usr/local/lib/python3.10/dist-packages/keras/src/layers/core/dense.py:87: UserWarning: Do not pass an `input_shape`/`input_dim` argument to a layer. When using Sequential models, prefer using an `Input(shape)` object as the first layer in the model instead.\n",
            "  super().__init__(activity_regularizer=activity_regularizer, **kwargs)\n"
          ]
        },
        {
          "output_type": "stream",
          "name": "stdout",
          "text": [
            "Epoch 1/100\n",
            "\u001b[1m1407/1407\u001b[0m \u001b[32m━━━━━━━━━━━━━━━━━━━━\u001b[0m\u001b[37m\u001b[0m \u001b[1m31s\u001b[0m 15ms/step - accuracy: 0.4257 - loss: 1.0556 - val_accuracy: 0.6225 - val_loss: 0.8155\n",
            "Epoch 2/100\n",
            "\u001b[1m1407/1407\u001b[0m \u001b[32m━━━━━━━━━━━━━━━━━━━━\u001b[0m\u001b[37m\u001b[0m \u001b[1m40s\u001b[0m 15ms/step - accuracy: 0.6161 - loss: 0.8301 - val_accuracy: 0.6279 - val_loss: 0.7890\n",
            "Epoch 3/100\n",
            "\u001b[1m1407/1407\u001b[0m \u001b[32m━━━━━━━━━━━━━━━━━━━━\u001b[0m\u001b[37m\u001b[0m \u001b[1m24s\u001b[0m 17ms/step - accuracy: 0.6332 - loss: 0.7938 - val_accuracy: 0.6421 - val_loss: 0.7670\n",
            "Epoch 4/100\n",
            "\u001b[1m1407/1407\u001b[0m \u001b[32m━━━━━━━━━━━━━━━━━━━━\u001b[0m\u001b[37m\u001b[0m \u001b[1m21s\u001b[0m 15ms/step - accuracy: 0.6443 - loss: 0.7761 - val_accuracy: 0.6345 - val_loss: 0.7664\n",
            "Epoch 5/100\n",
            "\u001b[1m1407/1407\u001b[0m \u001b[32m━━━━━━━━━━━━━━━━━━━━\u001b[0m\u001b[37m\u001b[0m \u001b[1m41s\u001b[0m 15ms/step - accuracy: 0.6509 - loss: 0.7616 - val_accuracy: 0.6343 - val_loss: 0.7692\n",
            "Epoch 6/100\n",
            "\u001b[1m1407/1407\u001b[0m \u001b[32m━━━━━━━━━━━━━━━━━━━━\u001b[0m\u001b[37m\u001b[0m \u001b[1m42s\u001b[0m 16ms/step - accuracy: 0.6592 - loss: 0.7470 - val_accuracy: 0.6436 - val_loss: 0.7598\n",
            "Epoch 7/100\n",
            "\u001b[1m1407/1407\u001b[0m \u001b[32m━━━━━━━━━━━━━━━━━━━━\u001b[0m\u001b[37m\u001b[0m \u001b[1m21s\u001b[0m 15ms/step - accuracy: 0.6650 - loss: 0.7337 - val_accuracy: 0.6389 - val_loss: 0.7628\n",
            "Epoch 8/100\n",
            "\u001b[1m1407/1407\u001b[0m \u001b[32m━━━━━━━━━━━━━━━━━━━━\u001b[0m\u001b[37m\u001b[0m \u001b[1m23s\u001b[0m 16ms/step - accuracy: 0.6744 - loss: 0.7198 - val_accuracy: 0.6502 - val_loss: 0.7641\n",
            "Epoch 9/100\n",
            "\u001b[1m1407/1407\u001b[0m \u001b[32m━━━━━━━━━━━━━━━━━━━━\u001b[0m\u001b[37m\u001b[0m \u001b[1m20s\u001b[0m 14ms/step - accuracy: 0.6806 - loss: 0.7025 - val_accuracy: 0.6461 - val_loss: 0.7554\n",
            "Epoch 10/100\n",
            "\u001b[1m1407/1407\u001b[0m \u001b[32m━━━━━━━━━━━━━━━━━━━━\u001b[0m\u001b[37m\u001b[0m \u001b[1m22s\u001b[0m 15ms/step - accuracy: 0.6821 - loss: 0.6929 - val_accuracy: 0.6462 - val_loss: 0.7662\n",
            "Epoch 11/100\n",
            "\u001b[1m1407/1407\u001b[0m \u001b[32m━━━━━━━━━━━━━━━━━━━━\u001b[0m\u001b[37m\u001b[0m \u001b[1m22s\u001b[0m 15ms/step - accuracy: 0.6952 - loss: 0.6751 - val_accuracy: 0.6516 - val_loss: 0.7574\n",
            "Epoch 12/100\n",
            "\u001b[1m1407/1407\u001b[0m \u001b[32m━━━━━━━━━━━━━━━━━━━━\u001b[0m\u001b[37m\u001b[0m \u001b[1m42s\u001b[0m 16ms/step - accuracy: 0.7063 - loss: 0.6575 - val_accuracy: 0.6414 - val_loss: 0.7883\n",
            "Epoch 13/100\n",
            "\u001b[1m1407/1407\u001b[0m \u001b[32m━━━━━━━━━━━━━━━━━━━━\u001b[0m\u001b[37m\u001b[0m \u001b[1m44s\u001b[0m 18ms/step - accuracy: 0.7127 - loss: 0.6447 - val_accuracy: 0.6359 - val_loss: 0.7940\n",
            "Epoch 14/100\n",
            "\u001b[1m1407/1407\u001b[0m \u001b[32m━━━━━━━━━━━━━━━━━━━━\u001b[0m\u001b[37m\u001b[0m \u001b[1m21s\u001b[0m 15ms/step - accuracy: 0.7230 - loss: 0.6238 - val_accuracy: 0.6228 - val_loss: 0.7995\n"
          ]
        },
        {
          "output_type": "execute_result",
          "data": {
            "text/plain": [
              "<keras.src.callbacks.history.History at 0x7c27b909e110>"
            ]
          },
          "metadata": {},
          "execution_count": 155
        }
      ]
    },
    {
      "cell_type": "code",
      "source": [
        "preds = (dl_model.predict(X_test) > 0.5).astype(\"int32\")"
      ],
      "metadata": {
        "colab": {
          "base_uri": "https://localhost:8080/"
        },
        "id": "pxunJ6m9jQnn",
        "outputId": "f2768454-20f3-41f3-ef67-49c4385bb3b5"
      },
      "execution_count": null,
      "outputs": [
        {
          "output_type": "stream",
          "name": "stdout",
          "text": [
            "\u001b[1m313/313\u001b[0m \u001b[32m━━━━━━━━━━━━━━━━━━━━\u001b[0m\u001b[37m\u001b[0m \u001b[1m1s\u001b[0m 4ms/step\n"
          ]
        }
      ]
    },
    {
      "cell_type": "code",
      "source": [
        "y_pred_classes = np.argmax(preds, axis=1)\n",
        "\n",
        "y_true = y_test\n",
        "\n",
        "cm = confusion_matrix(y_true, y_pred_classes)\n",
        "\n",
        "print(\"Confusion Matrix:\\n\", cm)"
      ],
      "metadata": {
        "colab": {
          "base_uri": "https://localhost:8080/"
        },
        "id": "M-V_ZNgQTqnv",
        "outputId": "212b8aff-0478-444c-8e0a-3e1a2e5645e5"
      },
      "execution_count": null,
      "outputs": [
        {
          "output_type": "stream",
          "name": "stdout",
          "text": [
            "Confusion Matrix:\n",
            " [[2184  255  895]\n",
            " [ 550 2254  529]\n",
            " [ 859  686 1788]]\n"
          ]
        }
      ]
    },
    {
      "cell_type": "code",
      "source": [
        "import seaborn as sns\n",
        "import matplotlib.pyplot as plt\n",
        "from sklearn.metrics import confusion_matrix\n",
        "\n",
        "# Generate the confusion matrix\n",
        "cm = confusion_matrix(y_true, y_pred_classes)\n",
        "\n",
        "# Plot the confusion matrix\n",
        "plt.figure(figsize=(8,6))\n",
        "sns.heatmap(cm, annot=True, fmt='d', cmap='Blues', xticklabels=['Class 0', 'Class 1', 'Class 2'],\n",
        "            yticklabels=['Class 0', 'Class 1', 'Class 2'])\n",
        "plt.xlabel('Predicted Labels')\n",
        "plt.ylabel('True Labels')\n",
        "plt.title('Confusion Matrix')\n",
        "plt.show()\n"
      ],
      "metadata": {
        "colab": {
          "base_uri": "https://localhost:8080/",
          "height": 564
        },
        "id": "_4WiszpOROLc",
        "outputId": "be15d924-6e62-4ea8-ae0b-2e0661752c02"
      },
      "execution_count": null,
      "outputs": [
        {
          "output_type": "display_data",
          "data": {
            "text/plain": [
              "<Figure size 800x600 with 2 Axes>"
            ],
            "image/png": "[encoded data removed]"
          },
          "metadata": {}
        }
      ]
    },
    {
      "cell_type": "code",
      "source": [
        "# Save the weights to a file\n",
        "dl_model.save_weights('/content/drive/MyDrive/image_course/weights2.weights.h5')\n",
        "\n",
        "\n"
      ],
      "metadata": {
        "id": "WpFtB_NYVFqD"
      },
      "execution_count": null,
      "outputs": []
    },
    {
      "cell_type": "code",
      "source": [
        "report = classification_report(y_true, y_pred_classes)\n",
        "\n",
        "print(\"Classification Report:\\n\", report)"
      ],
      "metadata": {
        "colab": {
          "base_uri": "https://localhost:8080/"
        },
        "id": "g41WRMjLMySX",
        "outputId": "8021133d-fd87-4fa7-c54b-8bf3fa071dd4"
      },
      "execution_count": null,
      "outputs": [
        {
          "output_type": "stream",
          "name": "stdout",
          "text": [
            "Classification Report:\n",
            "               precision    recall  f1-score   support\n",
            "\n",
            "           0       0.61      0.66      0.63      3334\n",
            "           1       0.71      0.68      0.69      3333\n",
            "           2       0.56      0.54      0.55      3333\n",
            "\n",
            "    accuracy                           0.62     10000\n",
            "   macro avg       0.62      0.62      0.62     10000\n",
            "weighted avg       0.62      0.62      0.62     10000\n",
            "\n"
          ]
        }
      ]
    },
    {
      "cell_type": "code",
      "source": [
        "test_text = ['انا احب السبانخ',' ابغض الغباء  ']\n",
        "\n",
        "test_text_pre = [preprocess_text(text) for text in test_text]\n",
        "test_text_pre"
      ],
      "metadata": {
        "colab": {
          "base_uri": "https://localhost:8080/"
        },
        "id": "Ul3AGYjqSKGh",
        "outputId": "4cf2b3c9-ed04-41f2-ffb3-133cf1a5f36e"
      },
      "execution_count": null,
      "outputs": [
        {
          "output_type": "execute_result",
          "data": {
            "text/plain": [
              "['انا احب السبانخ', 'ابغض الغباء']"
            ]
          },
          "metadata": {},
          "execution_count": 171
        }
      ]
    },
    {
      "cell_type": "code",
      "source": [
        "for sentence in test_text_pre:\n",
        "    input_vector = preprocess_text(sentence)\n",
        "    input_vector = model.wv.get_mean_vector(input_vector)\n",
        "    input_vector = np.expand_dims(input_vector, axis=0)\n",
        "\n",
        "    predictions = dl_model.predict(input_vector)\n",
        "\n",
        "    predicted_class = np.argmax(predictions, axis=1)\n",
        "\n",
        "    print(f\"Sentence: '{sentence}' | Predicted class: {predicted_class[0]}\")\n"
      ],
      "metadata": {
        "id": "5pxhbyBqjTA3",
        "outputId": "d74736e4-a5f9-4a90-cc83-7301f36f5dc0",
        "colab": {
          "base_uri": "https://localhost:8080/"
        }
      },
      "execution_count": null,
      "outputs": [
        {
          "output_type": "stream",
          "name": "stdout",
          "text": [
            "\u001b[1m1/1\u001b[0m \u001b[32m━━━━━━━━━━━━━━━━━━━━\u001b[0m\u001b[37m\u001b[0m \u001b[1m0s\u001b[0m 47ms/step\n",
            "Sentence: 'انا احب السبانخ' | Predicted class: 1\n",
            "\u001b[1m1/1\u001b[0m \u001b[32m━━━━━━━━━━━━━━━━━━━━\u001b[0m\u001b[37m\u001b[0m \u001b[1m0s\u001b[0m 32ms/step\n",
            "Sentence: 'ابغض الغباء' | Predicted class: 0\n"
          ]
        }
      ]
    },
    {
      "cell_type": "code",
      "source": [],
      "metadata": {
        "id": "Ggw_JlETlfeo"
      },
      "execution_count": null,
      "outputs": []
    }
  ]
}